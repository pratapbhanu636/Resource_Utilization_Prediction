{
 "cells": [
  {
   "cell_type": "code",
   "execution_count": 1,
   "metadata": {},
   "outputs": [],
   "source": [
    "import numpy as np\n",
    "from scipy import stats\n",
    "import pandas as pd\n",
    "import matplotlib.pyplot as plt\n",
    "import statsmodels.api as sm\n",
    "from statsmodels.tsa.stattools import adfuller\n",
    "from statsmodels.graphics.tsaplots import plot_acf,plot_pacf\n",
    "from statsmodels.tsa.arima_model import ARIMA\n",
    "from statsmodels.tsa.api import VAR\n",
    "\n",
    "from statsmodels.graphics.api import qqplot\n",
    "%matplotlib inline\n",
    "import pickle"
   ]
  },
  {
   "cell_type": "code",
   "execution_count": 2,
   "metadata": {},
   "outputs": [],
   "source": [
    "resource_data=pd.read_csv(\"D:\\Practice2\\group_1_1bda6faa-cb1c-4192-94b6-0ff8b19c8caa\\mem.log\",sep=\":\",header=None,names=['timestamp','Utilization']) # This is a free datset"
   ]
  },
  {
   "cell_type": "code",
   "execution_count": 3,
   "metadata": {},
   "outputs": [
    {
     "data": {
      "text/plain": [
       "(6374, 2)"
      ]
     },
     "execution_count": 3,
     "metadata": {},
     "output_type": "execute_result"
    }
   ],
   "source": [
    "resource_data.shape"
   ]
  },
  {
   "cell_type": "markdown",
   "metadata": {},
   "source": [
    "# Modeling The Data \n",
    "We are adding the columns of CPU and Memory Utilization "
   ]
  },
  {
   "cell_type": "code",
   "execution_count": 5,
   "metadata": {},
   "outputs": [],
   "source": [
    "resource_data[['Memory Allocated','Memory Used','CPU Allocated','CPU Used','Network bandwidth utilization','Storage space utilization']]=resource_data.Utilization.apply(lambda x: pd.Series(str(x).split(\":\")))"
   ]
  },
  {
   "cell_type": "code",
   "execution_count": 6,
   "metadata": {},
   "outputs": [
    {
     "data": {
      "text/html": [
       "<div>\n",
       "<style scoped>\n",
       "    .dataframe tbody tr th:only-of-type {\n",
       "        vertical-align: middle;\n",
       "    }\n",
       "\n",
       "    .dataframe tbody tr th {\n",
       "        vertical-align: top;\n",
       "    }\n",
       "\n",
       "    .dataframe thead th {\n",
       "        text-align: right;\n",
       "    }\n",
       "</style>\n",
       "<table border=\"1\" class=\"dataframe\">\n",
       "  <thead>\n",
       "    <tr style=\"text-align: right;\">\n",
       "      <th></th>\n",
       "      <th>timestamp</th>\n",
       "      <th>Utilization</th>\n",
       "      <th>Memory Allocated</th>\n",
       "      <th>Memory Used</th>\n",
       "      <th>CPU Allocated</th>\n",
       "      <th>CPU Used</th>\n",
       "      <th>Network bandwidth utilization</th>\n",
       "      <th>Storage space utilization</th>\n",
       "    </tr>\n",
       "  </thead>\n",
       "  <tbody>\n",
       "    <tr>\n",
       "      <th>0</th>\n",
       "      <td>Mon Feb 17 12:13:34 IST 2020</td>\n",
       "      <td>0:0:0:0.0:0.0:0G</td>\n",
       "      <td>0</td>\n",
       "      <td>0</td>\n",
       "      <td>0</td>\n",
       "      <td>0.0</td>\n",
       "      <td>0.0</td>\n",
       "      <td>0G</td>\n",
       "    </tr>\n",
       "    <tr>\n",
       "      <th>1</th>\n",
       "      <td>Mon Feb 17 12:19:50 IST 2020</td>\n",
       "      <td>0:0:0:0.0:0.0:0G</td>\n",
       "      <td>0</td>\n",
       "      <td>0</td>\n",
       "      <td>0</td>\n",
       "      <td>0.0</td>\n",
       "      <td>0.0</td>\n",
       "      <td>0G</td>\n",
       "    </tr>\n",
       "    <tr>\n",
       "      <th>2</th>\n",
       "      <td>Mon Feb 17 12:26:31 IST 2020</td>\n",
       "      <td>0:0:0:0.0:0.0:0G</td>\n",
       "      <td>0</td>\n",
       "      <td>0</td>\n",
       "      <td>0</td>\n",
       "      <td>0.0</td>\n",
       "      <td>0.0</td>\n",
       "      <td>0G</td>\n",
       "    </tr>\n",
       "    <tr>\n",
       "      <th>3</th>\n",
       "      <td>Mon Feb 17 12:33:08 IST 2020</td>\n",
       "      <td>0:0:0:0.0:0.0:0G</td>\n",
       "      <td>0</td>\n",
       "      <td>0</td>\n",
       "      <td>0</td>\n",
       "      <td>0.0</td>\n",
       "      <td>0.0</td>\n",
       "      <td>0G</td>\n",
       "    </tr>\n",
       "    <tr>\n",
       "      <th>4</th>\n",
       "      <td>Mon Feb 17 12:39:53 IST 2020</td>\n",
       "      <td>0:0:0:0.0:0.0:0G</td>\n",
       "      <td>0</td>\n",
       "      <td>0</td>\n",
       "      <td>0</td>\n",
       "      <td>0.0</td>\n",
       "      <td>0.0</td>\n",
       "      <td>0G</td>\n",
       "    </tr>\n",
       "  </tbody>\n",
       "</table>\n",
       "</div>"
      ],
      "text/plain": [
       "                      timestamp       Utilization Memory Allocated  \\\n",
       "0  Mon Feb 17 12:13:34 IST 2020  0:0:0:0.0:0.0:0G                0   \n",
       "1  Mon Feb 17 12:19:50 IST 2020  0:0:0:0.0:0.0:0G                0   \n",
       "2  Mon Feb 17 12:26:31 IST 2020  0:0:0:0.0:0.0:0G                0   \n",
       "3  Mon Feb 17 12:33:08 IST 2020  0:0:0:0.0:0.0:0G                0   \n",
       "4  Mon Feb 17 12:39:53 IST 2020  0:0:0:0.0:0.0:0G                0   \n",
       "\n",
       "  Memory Used CPU Allocated CPU Used Network bandwidth utilization  \\\n",
       "0           0             0      0.0                           0.0   \n",
       "1           0             0      0.0                           0.0   \n",
       "2           0             0      0.0                           0.0   \n",
       "3           0             0      0.0                           0.0   \n",
       "4           0             0      0.0                           0.0   \n",
       "\n",
       "  Storage space utilization  \n",
       "0                        0G  \n",
       "1                        0G  \n",
       "2                        0G  \n",
       "3                        0G  \n",
       "4                        0G  "
      ]
     },
     "execution_count": 6,
     "metadata": {},
     "output_type": "execute_result"
    }
   ],
   "source": [
    "resource_data.head()"
   ]
  },
  {
   "cell_type": "code",
   "execution_count": 7,
   "metadata": {},
   "outputs": [],
   "source": [
    "# Dropping The Utilizatiojn Column After Splitting it\n",
    "resource_data.drop(['Utilization'],axis=1,inplace=True)\n",
    "resource_data['Storage space utilization']=resource_data['Storage space utilization'].apply(lambda x: str(x[:len(x)-1])) #Removin #Removing the Last Aplphabet To Make the Intrger"
   ]
  },
  {
   "cell_type": "code",
   "execution_count": 8,
   "metadata": {},
   "outputs": [
    {
     "data": {
      "text/html": [
       "<div>\n",
       "<style scoped>\n",
       "    .dataframe tbody tr th:only-of-type {\n",
       "        vertical-align: middle;\n",
       "    }\n",
       "\n",
       "    .dataframe tbody tr th {\n",
       "        vertical-align: top;\n",
       "    }\n",
       "\n",
       "    .dataframe thead th {\n",
       "        text-align: right;\n",
       "    }\n",
       "</style>\n",
       "<table border=\"1\" class=\"dataframe\">\n",
       "  <thead>\n",
       "    <tr style=\"text-align: right;\">\n",
       "      <th></th>\n",
       "      <th>timestamp</th>\n",
       "      <th>Memory Allocated</th>\n",
       "      <th>Memory Used</th>\n",
       "      <th>CPU Allocated</th>\n",
       "      <th>CPU Used</th>\n",
       "      <th>Network bandwidth utilization</th>\n",
       "      <th>Storage space utilization</th>\n",
       "    </tr>\n",
       "  </thead>\n",
       "  <tbody>\n",
       "    <tr>\n",
       "      <th>0</th>\n",
       "      <td>Mon Feb 17 12:13:34 IST 2020</td>\n",
       "      <td>0</td>\n",
       "      <td>0</td>\n",
       "      <td>0</td>\n",
       "      <td>0.0</td>\n",
       "      <td>0.0</td>\n",
       "      <td>0</td>\n",
       "    </tr>\n",
       "    <tr>\n",
       "      <th>1</th>\n",
       "      <td>Mon Feb 17 12:19:50 IST 2020</td>\n",
       "      <td>0</td>\n",
       "      <td>0</td>\n",
       "      <td>0</td>\n",
       "      <td>0.0</td>\n",
       "      <td>0.0</td>\n",
       "      <td>0</td>\n",
       "    </tr>\n",
       "    <tr>\n",
       "      <th>2</th>\n",
       "      <td>Mon Feb 17 12:26:31 IST 2020</td>\n",
       "      <td>0</td>\n",
       "      <td>0</td>\n",
       "      <td>0</td>\n",
       "      <td>0.0</td>\n",
       "      <td>0.0</td>\n",
       "      <td>0</td>\n",
       "    </tr>\n",
       "    <tr>\n",
       "      <th>3</th>\n",
       "      <td>Mon Feb 17 12:33:08 IST 2020</td>\n",
       "      <td>0</td>\n",
       "      <td>0</td>\n",
       "      <td>0</td>\n",
       "      <td>0.0</td>\n",
       "      <td>0.0</td>\n",
       "      <td>0</td>\n",
       "    </tr>\n",
       "    <tr>\n",
       "      <th>4</th>\n",
       "      <td>Mon Feb 17 12:39:53 IST 2020</td>\n",
       "      <td>0</td>\n",
       "      <td>0</td>\n",
       "      <td>0</td>\n",
       "      <td>0.0</td>\n",
       "      <td>0.0</td>\n",
       "      <td>0</td>\n",
       "    </tr>\n",
       "  </tbody>\n",
       "</table>\n",
       "</div>"
      ],
      "text/plain": [
       "                      timestamp Memory Allocated Memory Used CPU Allocated  \\\n",
       "0  Mon Feb 17 12:13:34 IST 2020                0           0             0   \n",
       "1  Mon Feb 17 12:19:50 IST 2020                0           0             0   \n",
       "2  Mon Feb 17 12:26:31 IST 2020                0           0             0   \n",
       "3  Mon Feb 17 12:33:08 IST 2020                0           0             0   \n",
       "4  Mon Feb 17 12:39:53 IST 2020                0           0             0   \n",
       "\n",
       "  CPU Used Network bandwidth utilization Storage space utilization  \n",
       "0      0.0                           0.0                         0  \n",
       "1      0.0                           0.0                         0  \n",
       "2      0.0                           0.0                         0  \n",
       "3      0.0                           0.0                         0  \n",
       "4      0.0                           0.0                         0  "
      ]
     },
     "execution_count": 8,
     "metadata": {},
     "output_type": "execute_result"
    }
   ],
   "source": [
    "resource_data.head()"
   ]
  },
  {
   "cell_type": "code",
   "execution_count": 9,
   "metadata": {},
   "outputs": [
    {
     "name": "stderr",
     "output_type": "stream",
     "text": [
      "C:\\Users\\bhanup2\\Anaconda3\\lib\\site-packages\\dateutil\\parser\\_parser.py:1218: UnknownTimezoneWarning: tzname IST identified but not understood.  Pass `tzinfos` argument in order to correctly return a timezone-aware datetime.  In a future version, this will raise an exception.\n",
      "  category=UnknownTimezoneWarning)\n"
     ]
    }
   ],
   "source": [
    "resource_data['timestamp']=pd.to_datetime(resource_data['timestamp']) #Converting Data To TimeStamp"
   ]
  },
  {
   "cell_type": "code",
   "execution_count": 10,
   "metadata": {},
   "outputs": [
    {
     "data": {
      "text/plain": [
       "timestamp                        datetime64[ns]\n",
       "Memory Allocated                          int32\n",
       "Memory Used                               int32\n",
       "CPU Allocated                             int32\n",
       "CPU Used                                float64\n",
       "Network bandwidth utilization           float64\n",
       "Storage space utilization                 int32\n",
       "dtype: object"
      ]
     },
     "execution_count": 10,
     "metadata": {},
     "output_type": "execute_result"
    }
   ],
   "source": [
    "#Change The Data Type as \n",
    "resource_data['Memory Used']=resource_data['Memory Used'].astype('int')\n",
    "resource_data['Memory Allocated']=resource_data['Memory Allocated'].astype('int')\n",
    "resource_data['CPU Used']=resource_data['CPU Used'].astype('float')\n",
    "resource_data['CPU Allocated']=resource_data['CPU Allocated'].astype('int')\n",
    "resource_data['Storage space utilization']=resource_data['Storage space utilization'].astype('int')\n",
    "resource_data['Network bandwidth utilization']=resource_data['Network bandwidth utilization'].astype('float')\n",
    "resource_data.dtypes"
   ]
  },
  {
   "cell_type": "code",
   "execution_count": 11,
   "metadata": {},
   "outputs": [],
   "source": [
    "resource_data.set_index('timestamp',inplace=True) # Seeting Time Stamp To The Index Column"
   ]
  },
  {
   "cell_type": "markdown",
   "metadata": {},
   "source": [
    "# Data Pre Processing \n",
    "we are pre Processing the data fro Training the Algorithm"
   ]
  },
  {
   "cell_type": "code",
   "execution_count": 12,
   "metadata": {},
   "outputs": [
    {
     "data": {
      "text/plain": [
       "Memory Allocated                   int32\n",
       "Memory Used                        int32\n",
       "CPU Allocated                      int32\n",
       "CPU Used                         float64\n",
       "Network bandwidth utilization    float64\n",
       "Storage space utilization          int32\n",
       "dtype: object"
      ]
     },
     "execution_count": 12,
     "metadata": {},
     "output_type": "execute_result"
    }
   ],
   "source": [
    "resource_data.dtypes"
   ]
  },
  {
   "cell_type": "code",
   "execution_count": 13,
   "metadata": {},
   "outputs": [
    {
     "name": "stdout",
     "output_type": "stream",
     "text": [
      "<class 'pandas.core.frame.DataFrame'>\n",
      "DatetimeIndex: 6374 entries, 2020-02-17 12:13:34 to 2020-06-23 19:41:23\n",
      "Data columns (total 6 columns):\n",
      " #   Column                         Non-Null Count  Dtype  \n",
      "---  ------                         --------------  -----  \n",
      " 0   Memory Allocated               6374 non-null   int32  \n",
      " 1   Memory Used                    6374 non-null   int32  \n",
      " 2   CPU Allocated                  6374 non-null   int32  \n",
      " 3   CPU Used                       6374 non-null   float64\n",
      " 4   Network bandwidth utilization  6374 non-null   float64\n",
      " 5   Storage space utilization      6374 non-null   int32  \n",
      "dtypes: float64(2), int32(4)\n",
      "memory usage: 249.0 KB\n"
     ]
    }
   ],
   "source": [
    "resource_data.info()"
   ]
  },
  {
   "cell_type": "markdown",
   "metadata": {},
   "source": [
    "There are no Null Values "
   ]
  },
  {
   "cell_type": "code",
   "execution_count": 15,
   "metadata": {},
   "outputs": [
    {
     "data": {
      "text/plain": [
       "Memory Allocated                   2\n",
       "Memory Used                      553\n",
       "CPU Allocated                      2\n",
       "CPU Used                         132\n",
       "Network bandwidth utilization      1\n",
       "Storage space utilization          2\n",
       "dtype: int64"
      ]
     },
     "execution_count": 15,
     "metadata": {},
     "output_type": "execute_result"
    }
   ],
   "source": [
    "resource_data.nunique()  # There are some values with Constant Values we have to remove them to train our data"
   ]
  },
  {
   "cell_type": "markdown",
   "metadata": {},
   "source": [
    "# Plotting The Grapphs\n"
   ]
  },
  {
   "cell_type": "code",
   "execution_count": 16,
   "metadata": {},
   "outputs": [
    {
     "data": {
      "image/png": "[encoded data removed]",
      "text/plain": [
       "<Figure size 1200x720 with 6 Axes>"
      ]
     },
     "metadata": {
      "needs_background": "light"
     },
     "output_type": "display_data"
    }
   ],
   "source": [
    "fig, axes = plt.subplots(nrows=3, ncols=2, dpi=120, figsize=(10,6))\n",
    "for i, ax in enumerate(axes.flatten()):\n",
    "    data = resource_data[resource_data.columns[i]]\n",
    "    ax.plot(data, color='blue', linewidth=1)\n",
    "    # Decorations\n",
    "    ax.set_title(resource_data.columns[i])\n",
    "    ax.xaxis.set_ticks_position('none')\n",
    "    ax.yaxis.set_ticks_position('none')\n",
    "    ax.spines[\"top\"].set_alpha(0)\n",
    "    ax.tick_params(labelsize=6)\n",
    "\n",
    "plt.tight_layout();"
   ]
  },
  {
   "cell_type": "markdown",
   "metadata": {},
   "source": [
    "We Can See some Values are constant , We need to drop them "
   ]
  },
  {
   "cell_type": "code",
   "execution_count": 17,
   "metadata": {},
   "outputs": [],
   "source": [
    "processed_data=resource_data.copy()"
   ]
  },
  {
   "cell_type": "code",
   "execution_count": 18,
   "metadata": {},
   "outputs": [],
   "source": [
    "for column in resource_data.columns:\n",
    "    constant_column=resource_data[column].nunique()\n",
    "    if constant_column==1:\n",
    "        processed_data.drop([column],axis=1,inplace=True)    "
   ]
  },
  {
   "cell_type": "code",
   "execution_count": 19,
   "metadata": {},
   "outputs": [
    {
     "data": {
      "text/html": [
       "<div>\n",
       "<style scoped>\n",
       "    .dataframe tbody tr th:only-of-type {\n",
       "        vertical-align: middle;\n",
       "    }\n",
       "\n",
       "    .dataframe tbody tr th {\n",
       "        vertical-align: top;\n",
       "    }\n",
       "\n",
       "    .dataframe thead th {\n",
       "        text-align: right;\n",
       "    }\n",
       "</style>\n",
       "<table border=\"1\" class=\"dataframe\">\n",
       "  <thead>\n",
       "    <tr style=\"text-align: right;\">\n",
       "      <th></th>\n",
       "      <th>Memory Allocated</th>\n",
       "      <th>Memory Used</th>\n",
       "      <th>CPU Allocated</th>\n",
       "      <th>CPU Used</th>\n",
       "      <th>Storage space utilization</th>\n",
       "    </tr>\n",
       "    <tr>\n",
       "      <th>timestamp</th>\n",
       "      <th></th>\n",
       "      <th></th>\n",
       "      <th></th>\n",
       "      <th></th>\n",
       "      <th></th>\n",
       "    </tr>\n",
       "  </thead>\n",
       "  <tbody>\n",
       "    <tr>\n",
       "      <th>2020-02-17 12:13:34</th>\n",
       "      <td>0</td>\n",
       "      <td>0</td>\n",
       "      <td>0</td>\n",
       "      <td>0.0</td>\n",
       "      <td>0</td>\n",
       "    </tr>\n",
       "    <tr>\n",
       "      <th>2020-02-17 12:19:50</th>\n",
       "      <td>0</td>\n",
       "      <td>0</td>\n",
       "      <td>0</td>\n",
       "      <td>0.0</td>\n",
       "      <td>0</td>\n",
       "    </tr>\n",
       "    <tr>\n",
       "      <th>2020-02-17 12:26:31</th>\n",
       "      <td>0</td>\n",
       "      <td>0</td>\n",
       "      <td>0</td>\n",
       "      <td>0.0</td>\n",
       "      <td>0</td>\n",
       "    </tr>\n",
       "    <tr>\n",
       "      <th>2020-02-17 12:33:08</th>\n",
       "      <td>0</td>\n",
       "      <td>0</td>\n",
       "      <td>0</td>\n",
       "      <td>0.0</td>\n",
       "      <td>0</td>\n",
       "    </tr>\n",
       "    <tr>\n",
       "      <th>2020-02-17 12:39:53</th>\n",
       "      <td>0</td>\n",
       "      <td>0</td>\n",
       "      <td>0</td>\n",
       "      <td>0.0</td>\n",
       "      <td>0</td>\n",
       "    </tr>\n",
       "  </tbody>\n",
       "</table>\n",
       "</div>"
      ],
      "text/plain": [
       "                     Memory Allocated  Memory Used  CPU Allocated  CPU Used  \\\n",
       "timestamp                                                                     \n",
       "2020-02-17 12:13:34                 0            0              0       0.0   \n",
       "2020-02-17 12:19:50                 0            0              0       0.0   \n",
       "2020-02-17 12:26:31                 0            0              0       0.0   \n",
       "2020-02-17 12:33:08                 0            0              0       0.0   \n",
       "2020-02-17 12:39:53                 0            0              0       0.0   \n",
       "\n",
       "                     Storage space utilization  \n",
       "timestamp                                       \n",
       "2020-02-17 12:13:34                          0  \n",
       "2020-02-17 12:19:50                          0  \n",
       "2020-02-17 12:26:31                          0  \n",
       "2020-02-17 12:33:08                          0  \n",
       "2020-02-17 12:39:53                          0  "
      ]
     },
     "execution_count": 19,
     "metadata": {},
     "output_type": "execute_result"
    }
   ],
   "source": [
    "processed_data.head()"
   ]
  },
  {
   "cell_type": "markdown",
   "metadata": {},
   "source": [
    "# Training  The Model"
   ]
  },
  {
   "cell_type": "code",
   "execution_count": 21,
   "metadata": {},
   "outputs": [
    {
     "name": "stdout",
     "output_type": "stream",
     "text": [
      "(5374, 5)\n",
      "(1000, 5)\n"
     ]
    }
   ],
   "source": [
    "nobs = 1000\n",
    "resource_train, resource_test = processed_data[0:-nobs], processed_data[-nobs:]\n",
    "\n",
    "# Splitting The Data in Train and test \n",
    "print(resource_train.shape)  \n",
    "print(resource_test.shape)  "
   ]
  },
  {
   "cell_type": "code",
   "execution_count": 22,
   "metadata": {},
   "outputs": [],
   "source": [
    "#adfuller_test is used to predict the Stationary of data\n",
    "\n",
    "def adfuller_test(series, signif=0.05, name='', verbose=False):\n",
    "    \"\"\"Perform ADFuller to test for Stationarity of given series and print report\"\"\"\n",
    "    r = adfuller(series, autolag='AIC')\n",
    "    output = {'test_statistic':round(r[0], 4), 'pvalue':round(r[1], 4), 'n_lags':round(r[2], 4), 'n_obs':r[3]}\n",
    "    p_value = output['pvalue'] \n",
    "    def adjust(val, length= 6): return str(val).ljust(length)\n",
    "\n",
    "    # Print Summary\n",
    "    print(f'    Augmented Dickey-Fuller Test on \"{name}\"', \"\\n   \", '-'*47)\n",
    "    print(f' Null Hypothesis: Data has unit root. Non-Stationary.')\n",
    "    print(f' Significance Level    = {signif}')\n",
    "    print(f' Test Statistic        = {output[\"test_statistic\"]}')\n",
    "    print(f' No. Lags Chosen       = {output[\"n_lags\"]}')\n",
    "\n",
    "    for key,val in r[4].items():\n",
    "        print(f' Critical value {adjust(key)} = {round(val, 3)}')\n",
    "\n",
    "    if p_value <= signif:\n",
    "        print(f\" => P-Value = {p_value}. Rejecting Null Hypothesis.\")\n",
    "        print(f\" => Series is Stationary.\")\n",
    "    else:\n",
    "        print(f\" => P-Value = {p_value}. Weak evidence to reject the Null Hypothesis.\")\n",
    "        print(f\" => Series is Non-Stationary.\")    "
   ]
  },
  {
   "cell_type": "code",
   "execution_count": 23,
   "metadata": {},
   "outputs": [
    {
     "name": "stdout",
     "output_type": "stream",
     "text": [
      "    Augmented Dickey-Fuller Test on \"Memory Allocated\" \n",
      "    -----------------------------------------------\n",
      " Null Hypothesis: Data has unit root. Non-Stationary.\n",
      " Significance Level    = 0.05\n",
      " Test Statistic        = -2.6377\n",
      " No. Lags Chosen       = 5\n",
      " Critical value 1%     = -3.432\n",
      " Critical value 5%     = -2.862\n",
      " Critical value 10%    = -2.567\n",
      " => P-Value = 0.0855. Weak evidence to reject the Null Hypothesis.\n",
      " => Series is Non-Stationary.\n",
      "\n",
      "\n",
      "    Augmented Dickey-Fuller Test on \"Memory Used\" \n",
      "    -----------------------------------------------\n",
      " Null Hypothesis: Data has unit root. Non-Stationary.\n",
      " Significance Level    = 0.05\n",
      " Test Statistic        = -2.4082\n",
      " No. Lags Chosen       = 32\n",
      " Critical value 1%     = -3.432\n",
      " Critical value 5%     = -2.862\n",
      " Critical value 10%    = -2.567\n",
      " => P-Value = 0.1394. Weak evidence to reject the Null Hypothesis.\n",
      " => Series is Non-Stationary.\n",
      "\n",
      "\n",
      "    Augmented Dickey-Fuller Test on \"CPU Allocated\" \n",
      "    -----------------------------------------------\n",
      " Null Hypothesis: Data has unit root. Non-Stationary.\n",
      " Significance Level    = 0.05\n",
      " Test Statistic        = -2.6377\n",
      " No. Lags Chosen       = 5\n",
      " Critical value 1%     = -3.432\n",
      " Critical value 5%     = -2.862\n",
      " Critical value 10%    = -2.567\n",
      " => P-Value = 0.0855. Weak evidence to reject the Null Hypothesis.\n",
      " => Series is Non-Stationary.\n",
      "\n",
      "\n",
      "    Augmented Dickey-Fuller Test on \"CPU Used\" \n",
      "    -----------------------------------------------\n",
      " Null Hypothesis: Data has unit root. Non-Stationary.\n",
      " Significance Level    = 0.05\n",
      " Test Statistic        = -5.5777\n",
      " No. Lags Chosen       = 32\n",
      " Critical value 1%     = -3.432\n",
      " Critical value 5%     = -2.862\n",
      " Critical value 10%    = -2.567\n",
      " => P-Value = 0.0. Rejecting Null Hypothesis.\n",
      " => Series is Stationary.\n",
      "\n",
      "\n",
      "    Augmented Dickey-Fuller Test on \"Storage space utilization\" \n",
      "    -----------------------------------------------\n",
      " Null Hypothesis: Data has unit root. Non-Stationary.\n",
      " Significance Level    = 0.05\n",
      " Test Statistic        = -21.1306\n",
      " No. Lags Chosen       = 0\n",
      " Critical value 1%     = -3.432\n",
      " Critical value 5%     = -2.862\n",
      " Critical value 10%    = -2.567\n",
      " => P-Value = 0.0. Rejecting Null Hypothesis.\n",
      " => Series is Stationary.\n",
      "\n",
      "\n"
     ]
    },
    {
     "name": "stderr",
     "output_type": "stream",
     "text": [
      "C:\\Users\\bhanup2\\Anaconda3\\lib\\site-packages\\statsmodels\\regression\\linear_model.py:889: RuntimeWarning: divide by zero encountered in log\n",
      "  llf = -nobs2*np.log(2*np.pi) - nobs2*np.log(ssr / nobs) - nobs2\n"
     ]
    }
   ],
   "source": [
    "for name, column in resource_train.iteritems():\n",
    "    adfuller_test(column, name=column.name)\n",
    "    print('\\n')"
   ]
  },
  {
   "cell_type": "markdown",
   "metadata": {},
   "source": [
    "As Our Data is not stationary we have to make it Using Differencing"
   ]
  },
  {
   "cell_type": "code",
   "execution_count": 42,
   "metadata": {},
   "outputs": [],
   "source": [
    "df_differenced = resource_train.diff().dropna()"
   ]
  },
  {
   "cell_type": "code",
   "execution_count": 43,
   "metadata": {},
   "outputs": [
    {
     "name": "stdout",
     "output_type": "stream",
     "text": [
      "    Augmented Dickey-Fuller Test on \"Memory Allocated\" \n",
      "    -----------------------------------------------\n",
      " Null Hypothesis: Data has unit root. Non-Stationary.\n",
      " Significance Level    = 0.05\n",
      " Test Statistic        = -40.6918\n",
      " No. Lags Chosen       = 4\n",
      " Critical value 1%     = -3.432\n",
      " Critical value 5%     = -2.862\n",
      " Critical value 10%    = -2.567\n",
      " => P-Value = 0.0. Rejecting Null Hypothesis.\n",
      " => Series is Stationary.\n",
      "\n",
      "\n",
      "    Augmented Dickey-Fuller Test on \"Memory Used\" \n",
      "    -----------------------------------------------\n",
      " Null Hypothesis: Data has unit root. Non-Stationary.\n",
      " Significance Level    = 0.05\n",
      " Test Statistic        = -19.1605\n",
      " No. Lags Chosen       = 33\n",
      " Critical value 1%     = -3.432\n",
      " Critical value 5%     = -2.862\n",
      " Critical value 10%    = -2.567\n",
      " => P-Value = 0.0. Rejecting Null Hypothesis.\n",
      " => Series is Stationary.\n",
      "\n",
      "\n",
      "    Augmented Dickey-Fuller Test on \"CPU Allocated\" \n",
      "    -----------------------------------------------\n",
      " Null Hypothesis: Data has unit root. Non-Stationary.\n",
      " Significance Level    = 0.05\n",
      " Test Statistic        = -40.6918\n",
      " No. Lags Chosen       = 4\n",
      " Critical value 1%     = -3.432\n",
      " Critical value 5%     = -2.862\n",
      " Critical value 10%    = -2.567\n",
      " => P-Value = 0.0. Rejecting Null Hypothesis.\n",
      " => Series is Stationary.\n",
      "\n",
      "\n",
      "    Augmented Dickey-Fuller Test on \"CPU Used\" \n",
      "    -----------------------------------------------\n",
      " Null Hypothesis: Data has unit root. Non-Stationary.\n",
      " Significance Level    = 0.05\n",
      " Test Statistic        = -23.134\n",
      " No. Lags Chosen       = 31\n",
      " Critical value 1%     = -3.432\n",
      " Critical value 5%     = -2.862\n",
      " Critical value 10%    = -2.567\n",
      " => P-Value = 0.0. Rejecting Null Hypothesis.\n",
      " => Series is Stationary.\n",
      "\n",
      "\n",
      "    Augmented Dickey-Fuller Test on \"Storage space utilization\" \n",
      "    -----------------------------------------------\n",
      " Null Hypothesis: Data has unit root. Non-Stationary.\n",
      " Significance Level    = 0.05\n",
      " Test Statistic        = -73.2939\n",
      " No. Lags Chosen       = 0\n",
      " Critical value 1%     = -3.432\n",
      " Critical value 5%     = -2.862\n",
      " Critical value 10%    = -2.567\n",
      " => P-Value = 0.0. Rejecting Null Hypothesis.\n",
      " => Series is Stationary.\n",
      "\n",
      "\n"
     ]
    }
   ],
   "source": [
    "for name, column in df_differenced.iteritems():\n",
    "    adfuller_test(column, name=column.name)\n",
    "    print('\\n')"
   ]
  },
  {
   "cell_type": "markdown",
   "metadata": {},
   "source": [
    "Data is Stationary now"
   ]
  },
  {
   "cell_type": "code",
   "execution_count": null,
   "metadata": {},
   "outputs": [],
   "source": []
  },
  {
   "cell_type": "markdown",
   "metadata": {},
   "source": [
    "# Prediction"
   ]
  },
  {
   "cell_type": "code",
   "execution_count": 79,
   "metadata": {},
   "outputs": [
    {
     "name": "stderr",
     "output_type": "stream",
     "text": [
      "C:\\Users\\bhanup2\\Anaconda3\\lib\\site-packages\\statsmodels\\tsa\\base\\tsa_model.py:218: ValueWarning: A date index has been provided, but it has no associated frequency information and so will be ignored when e.g. forecasting.\n",
      "  ' ignored when e.g. forecasting.', ValueWarning)\n"
     ]
    }
   ],
   "source": [
    "## Using VAR Model Forecast Our Data , We are searching for the best lag where our data is showing less AIC \n",
    "\n",
    "model = VAR(df_differenced)\n",
    "model_fitted = model.fit(1)"
   ]
  },
  {
   "cell_type": "code",
   "execution_count": 80,
   "metadata": {},
   "outputs": [
    {
     "name": "stdout",
     "output_type": "stream",
     "text": [
      "1\n"
     ]
    },
    {
     "data": {
      "text/plain": [
       "array([[ 0.  ,  0.  ,  0.  , -0.01,  0.  ]])"
      ]
     },
     "execution_count": 80,
     "metadata": {},
     "output_type": "execute_result"
    }
   ],
   "source": [
    "lag_order = model_fitted.k_ar\n",
    "print(lag_order)  #> 4\n",
    "\n",
    "# Input data for forecasting\n",
    "forecast_input = df_differenced.values[-lag_order:]\n",
    "forecast_input"
   ]
  },
  {
   "cell_type": "code",
   "execution_count": 81,
   "metadata": {},
   "outputs": [
    {
     "data": {
      "text/html": [
       "<div>\n",
       "<style scoped>\n",
       "    .dataframe tbody tr th:only-of-type {\n",
       "        vertical-align: middle;\n",
       "    }\n",
       "\n",
       "    .dataframe tbody tr th {\n",
       "        vertical-align: top;\n",
       "    }\n",
       "\n",
       "    .dataframe thead th {\n",
       "        text-align: right;\n",
       "    }\n",
       "</style>\n",
       "<table border=\"1\" class=\"dataframe\">\n",
       "  <thead>\n",
       "    <tr style=\"text-align: right;\">\n",
       "      <th></th>\n",
       "      <th>Memory Allocated_d</th>\n",
       "      <th>Memory Used_d</th>\n",
       "      <th>CPU Allocated_d</th>\n",
       "      <th>CPU Used_d</th>\n",
       "      <th>Storage space utilization_d</th>\n",
       "    </tr>\n",
       "    <tr>\n",
       "      <th>timestamp</th>\n",
       "      <th></th>\n",
       "      <th></th>\n",
       "      <th></th>\n",
       "      <th></th>\n",
       "      <th></th>\n",
       "    </tr>\n",
       "  </thead>\n",
       "  <tbody>\n",
       "    <tr>\n",
       "      <th>2020-06-16 11:50:19</th>\n",
       "      <td>6.095161</td>\n",
       "      <td>5.467859</td>\n",
       "      <td>0.000744</td>\n",
       "      <td>0.003949</td>\n",
       "      <td>0.056812</td>\n",
       "    </tr>\n",
       "    <tr>\n",
       "      <th>2020-06-16 11:59:36</th>\n",
       "      <td>6.010744</td>\n",
       "      <td>5.592237</td>\n",
       "      <td>0.000734</td>\n",
       "      <td>-0.001529</td>\n",
       "      <td>0.056777</td>\n",
       "    </tr>\n",
       "    <tr>\n",
       "      <th>2020-06-16 12:09:34</th>\n",
       "      <td>6.144228</td>\n",
       "      <td>5.605603</td>\n",
       "      <td>0.000750</td>\n",
       "      <td>0.000611</td>\n",
       "      <td>0.056776</td>\n",
       "    </tr>\n",
       "    <tr>\n",
       "      <th>2020-06-16 12:20:42</th>\n",
       "      <td>6.077416</td>\n",
       "      <td>5.601066</td>\n",
       "      <td>0.000742</td>\n",
       "      <td>-0.000225</td>\n",
       "      <td>0.056776</td>\n",
       "    </tr>\n",
       "    <tr>\n",
       "      <th>2020-06-16 12:30:23</th>\n",
       "      <td>6.110677</td>\n",
       "      <td>5.603276</td>\n",
       "      <td>0.000746</td>\n",
       "      <td>0.000102</td>\n",
       "      <td>0.056776</td>\n",
       "    </tr>\n",
       "  </tbody>\n",
       "</table>\n",
       "</div>"
      ],
      "text/plain": [
       "                     Memory Allocated_d  Memory Used_d  CPU Allocated_d  \\\n",
       "timestamp                                                                 \n",
       "2020-06-16 11:50:19            6.095161       5.467859         0.000744   \n",
       "2020-06-16 11:59:36            6.010744       5.592237         0.000734   \n",
       "2020-06-16 12:09:34            6.144228       5.605603         0.000750   \n",
       "2020-06-16 12:20:42            6.077416       5.601066         0.000742   \n",
       "2020-06-16 12:30:23            6.110677       5.603276         0.000746   \n",
       "\n",
       "                     CPU Used_d  Storage space utilization_d  \n",
       "timestamp                                                     \n",
       "2020-06-16 11:50:19    0.003949                     0.056812  \n",
       "2020-06-16 11:59:36   -0.001529                     0.056777  \n",
       "2020-06-16 12:09:34    0.000611                     0.056776  \n",
       "2020-06-16 12:20:42   -0.000225                     0.056776  \n",
       "2020-06-16 12:30:23    0.000102                     0.056776  "
      ]
     },
     "execution_count": 81,
     "metadata": {},
     "output_type": "execute_result"
    }
   ],
   "source": [
    "# Forecast\n",
    "fc = model_fitted.forecast(y=forecast_input, steps=nobs)\n",
    "df_forecast = pd.DataFrame(fc, index= processed_data.index[-nobs:], columns=processed_data.columns+'_d')\n",
    "df_forecast.head()"
   ]
  },
  {
   "cell_type": "markdown",
   "metadata": {},
   "source": [
    "Invertig The Data"
   ]
  },
  {
   "cell_type": "code",
   "execution_count": 82,
   "metadata": {},
   "outputs": [],
   "source": [
    "columns=processed_data.columns\n",
    "df_final = df_forecast.copy()\n",
    "for col in columns:\n",
    "        # Roll back 1st Diff\n",
    "        df_final[str(col)+'_forecast'] = processed_data[col].iloc[-1] + df_forecast[str(col)+'_d'].cumsum()"
   ]
  },
  {
   "cell_type": "code",
   "execution_count": 83,
   "metadata": {},
   "outputs": [],
   "source": [
    "df_final.drop(['CPU Used_d','Memory Allocated_d','Memory Used_d','CPU Allocated_d','Storage space utilization_d'],inplace=True,axis=1)"
   ]
  },
  {
   "cell_type": "code",
   "execution_count": 84,
   "metadata": {},
   "outputs": [
    {
     "data": {
      "text/html": [
       "<div>\n",
       "<style scoped>\n",
       "    .dataframe tbody tr th:only-of-type {\n",
       "        vertical-align: middle;\n",
       "    }\n",
       "\n",
       "    .dataframe tbody tr th {\n",
       "        vertical-align: top;\n",
       "    }\n",
       "\n",
       "    .dataframe thead th {\n",
       "        text-align: right;\n",
       "    }\n",
       "</style>\n",
       "<table border=\"1\" class=\"dataframe\">\n",
       "  <thead>\n",
       "    <tr style=\"text-align: right;\">\n",
       "      <th></th>\n",
       "      <th>Memory Allocated_forecast</th>\n",
       "      <th>Memory Used_forecast</th>\n",
       "      <th>CPU Allocated_forecast</th>\n",
       "      <th>CPU Used_forecast</th>\n",
       "      <th>Storage space utilization_forecast</th>\n",
       "    </tr>\n",
       "    <tr>\n",
       "      <th>timestamp</th>\n",
       "      <th></th>\n",
       "      <th></th>\n",
       "      <th></th>\n",
       "      <th></th>\n",
       "      <th></th>\n",
       "    </tr>\n",
       "  </thead>\n",
       "  <tbody>\n",
       "    <tr>\n",
       "      <th>2020-06-16 11:50:19</th>\n",
       "      <td>32774.095161</td>\n",
       "      <td>32773.467859</td>\n",
       "      <td>4.000744</td>\n",
       "      <td>4.003949</td>\n",
       "      <td>305.056812</td>\n",
       "    </tr>\n",
       "    <tr>\n",
       "      <th>2020-06-16 11:59:36</th>\n",
       "      <td>32780.105906</td>\n",
       "      <td>32779.060096</td>\n",
       "      <td>4.001478</td>\n",
       "      <td>4.002420</td>\n",
       "      <td>305.113589</td>\n",
       "    </tr>\n",
       "    <tr>\n",
       "      <th>2020-06-16 12:09:34</th>\n",
       "      <td>32786.250133</td>\n",
       "      <td>32784.665699</td>\n",
       "      <td>4.002228</td>\n",
       "      <td>4.003031</td>\n",
       "      <td>305.170364</td>\n",
       "    </tr>\n",
       "    <tr>\n",
       "      <th>2020-06-16 12:20:42</th>\n",
       "      <td>32792.327549</td>\n",
       "      <td>32790.266765</td>\n",
       "      <td>4.002970</td>\n",
       "      <td>4.002806</td>\n",
       "      <td>305.227140</td>\n",
       "    </tr>\n",
       "    <tr>\n",
       "      <th>2020-06-16 12:30:23</th>\n",
       "      <td>32798.438226</td>\n",
       "      <td>32795.870041</td>\n",
       "      <td>4.003716</td>\n",
       "      <td>4.002908</td>\n",
       "      <td>305.283916</td>\n",
       "    </tr>\n",
       "  </tbody>\n",
       "</table>\n",
       "</div>"
      ],
      "text/plain": [
       "                     Memory Allocated_forecast  Memory Used_forecast  \\\n",
       "timestamp                                                              \n",
       "2020-06-16 11:50:19               32774.095161          32773.467859   \n",
       "2020-06-16 11:59:36               32780.105906          32779.060096   \n",
       "2020-06-16 12:09:34               32786.250133          32784.665699   \n",
       "2020-06-16 12:20:42               32792.327549          32790.266765   \n",
       "2020-06-16 12:30:23               32798.438226          32795.870041   \n",
       "\n",
       "                     CPU Allocated_forecast  CPU Used_forecast  \\\n",
       "timestamp                                                        \n",
       "2020-06-16 11:50:19                4.000744           4.003949   \n",
       "2020-06-16 11:59:36                4.001478           4.002420   \n",
       "2020-06-16 12:09:34                4.002228           4.003031   \n",
       "2020-06-16 12:20:42                4.002970           4.002806   \n",
       "2020-06-16 12:30:23                4.003716           4.002908   \n",
       "\n",
       "                     Storage space utilization_forecast  \n",
       "timestamp                                                \n",
       "2020-06-16 11:50:19                          305.056812  \n",
       "2020-06-16 11:59:36                          305.113589  \n",
       "2020-06-16 12:09:34                          305.170364  \n",
       "2020-06-16 12:20:42                          305.227140  \n",
       "2020-06-16 12:30:23                          305.283916  "
      ]
     },
     "execution_count": 84,
     "metadata": {},
     "output_type": "execute_result"
    }
   ],
   "source": [
    "df_final.head()"
   ]
  },
  {
   "cell_type": "code",
   "execution_count": 85,
   "metadata": {},
   "outputs": [],
   "source": [
    "for column in resource_data.columns:\n",
    "    constant_column=resource_data[column].nunique()\n",
    "    if constant_column==1:\n",
    "        df_final[column]=resource_data[column]"
   ]
  },
  {
   "cell_type": "code",
   "execution_count": 71,
   "metadata": {},
   "outputs": [
    {
     "data": {
      "text/html": [
       "<div>\n",
       "<style scoped>\n",
       "    .dataframe tbody tr th:only-of-type {\n",
       "        vertical-align: middle;\n",
       "    }\n",
       "\n",
       "    .dataframe tbody tr th {\n",
       "        vertical-align: top;\n",
       "    }\n",
       "\n",
       "    .dataframe thead th {\n",
       "        text-align: right;\n",
       "    }\n",
       "</style>\n",
       "<table border=\"1\" class=\"dataframe\">\n",
       "  <thead>\n",
       "    <tr style=\"text-align: right;\">\n",
       "      <th></th>\n",
       "      <th>Memory Allocated_forecast</th>\n",
       "      <th>Memory Used_forecast</th>\n",
       "      <th>CPU Allocated_forecast</th>\n",
       "      <th>CPU Used_forecast</th>\n",
       "      <th>Storage space utilization_forecast</th>\n",
       "      <th>Network bandwidth utilization</th>\n",
       "    </tr>\n",
       "    <tr>\n",
       "      <th>timestamp</th>\n",
       "      <th></th>\n",
       "      <th></th>\n",
       "      <th></th>\n",
       "      <th></th>\n",
       "      <th></th>\n",
       "      <th></th>\n",
       "    </tr>\n",
       "  </thead>\n",
       "  <tbody>\n",
       "    <tr>\n",
       "      <th>2020-06-16 11:50:19</th>\n",
       "      <td>32776.872830</td>\n",
       "      <td>32768.686876</td>\n",
       "      <td>4.001083</td>\n",
       "      <td>4.454647</td>\n",
       "      <td>305.057002</td>\n",
       "      <td>0.0</td>\n",
       "    </tr>\n",
       "    <tr>\n",
       "      <th>2020-06-16 11:59:36</th>\n",
       "      <td>32772.444047</td>\n",
       "      <td>32771.502588</td>\n",
       "      <td>4.000542</td>\n",
       "      <td>4.373895</td>\n",
       "      <td>305.113940</td>\n",
       "      <td>0.0</td>\n",
       "    </tr>\n",
       "    <tr>\n",
       "      <th>2020-06-16 12:09:34</th>\n",
       "      <td>32795.880950</td>\n",
       "      <td>32779.914794</td>\n",
       "      <td>4.003403</td>\n",
       "      <td>4.123231</td>\n",
       "      <td>305.170879</td>\n",
       "      <td>0.0</td>\n",
       "    </tr>\n",
       "    <tr>\n",
       "      <th>2020-06-16 12:20:42</th>\n",
       "      <td>32809.249476</td>\n",
       "      <td>32789.804539</td>\n",
       "      <td>4.005035</td>\n",
       "      <td>4.097586</td>\n",
       "      <td>305.227797</td>\n",
       "      <td>0.0</td>\n",
       "    </tr>\n",
       "    <tr>\n",
       "      <th>2020-06-16 12:30:23</th>\n",
       "      <td>32812.304667</td>\n",
       "      <td>32794.640806</td>\n",
       "      <td>4.005408</td>\n",
       "      <td>4.118339</td>\n",
       "      <td>305.284689</td>\n",
       "      <td>0.0</td>\n",
       "    </tr>\n",
       "  </tbody>\n",
       "</table>\n",
       "</div>"
      ],
      "text/plain": [
       "                     Memory Allocated_forecast  Memory Used_forecast  \\\n",
       "timestamp                                                              \n",
       "2020-06-16 11:50:19               32776.872830          32768.686876   \n",
       "2020-06-16 11:59:36               32772.444047          32771.502588   \n",
       "2020-06-16 12:09:34               32795.880950          32779.914794   \n",
       "2020-06-16 12:20:42               32809.249476          32789.804539   \n",
       "2020-06-16 12:30:23               32812.304667          32794.640806   \n",
       "\n",
       "                     CPU Allocated_forecast  CPU Used_forecast  \\\n",
       "timestamp                                                        \n",
       "2020-06-16 11:50:19                4.001083           4.454647   \n",
       "2020-06-16 11:59:36                4.000542           4.373895   \n",
       "2020-06-16 12:09:34                4.003403           4.123231   \n",
       "2020-06-16 12:20:42                4.005035           4.097586   \n",
       "2020-06-16 12:30:23                4.005408           4.118339   \n",
       "\n",
       "                     Storage space utilization_forecast  \\\n",
       "timestamp                                                 \n",
       "2020-06-16 11:50:19                          305.057002   \n",
       "2020-06-16 11:59:36                          305.113940   \n",
       "2020-06-16 12:09:34                          305.170879   \n",
       "2020-06-16 12:20:42                          305.227797   \n",
       "2020-06-16 12:30:23                          305.284689   \n",
       "\n",
       "                     Network bandwidth utilization  \n",
       "timestamp                                           \n",
       "2020-06-16 11:50:19                            0.0  \n",
       "2020-06-16 11:59:36                            0.0  \n",
       "2020-06-16 12:09:34                            0.0  \n",
       "2020-06-16 12:20:42                            0.0  \n",
       "2020-06-16 12:30:23                            0.0  "
      ]
     },
     "execution_count": 71,
     "metadata": {},
     "output_type": "execute_result"
    }
   ],
   "source": [
    "df_final.head()"
   ]
  },
  {
   "cell_type": "code",
   "execution_count": 86,
   "metadata": {},
   "outputs": [],
   "source": [
    "final_df=pd.concat([df_final,resource_test])"
   ]
  },
  {
   "cell_type": "code",
   "execution_count": 87,
   "metadata": {},
   "outputs": [
    {
     "data": {
      "text/plain": [
       "<matplotlib.axes._subplots.AxesSubplot at 0x2763a69a648>"
      ]
     },
     "execution_count": 87,
     "metadata": {},
     "output_type": "execute_result"
    },
    {
     "data": {
      "image/png": "[encoded data removed]",
      "text/plain": [
       "<Figure size 864x576 with 1 Axes>"
      ]
     },
     "metadata": {
      "needs_background": "light"
     },
     "output_type": "display_data"
    }
   ],
   "source": [
    "final_df[['Memory Used', 'Memory Used_forecast']].plot(figsize=(12, 8)) "
   ]
  },
  {
   "cell_type": "code",
   "execution_count": 88,
   "metadata": {},
   "outputs": [
    {
     "data": {
      "text/plain": [
       "<matplotlib.axes._subplots.AxesSubplot at 0x2763a657888>"
      ]
     },
     "execution_count": 88,
     "metadata": {},
     "output_type": "execute_result"
    },
    {
     "data": {
      "image/png": "[encoded data removed]",
      "text/plain": [
       "<Figure size 864x576 with 1 Axes>"
      ]
     },
     "metadata": {
      "needs_background": "light"
     },
     "output_type": "display_data"
    }
   ],
   "source": [
    "final_df[['CPU Used', 'CPU Used_forecast']].plot(figsize=(12, 8)) "
   ]
  },
  {
   "cell_type": "code",
   "execution_count": 89,
   "metadata": {},
   "outputs": [
    {
     "data": {
      "text/plain": [
       "<matplotlib.axes._subplots.AxesSubplot at 0x2763a5d2288>"
      ]
     },
     "execution_count": 89,
     "metadata": {},
     "output_type": "execute_result"
    },
    {
     "data": {
      "image/png": "[encoded data removed]",
      "text/plain": [
       "<Figure size 864x576 with 1 Axes>"
      ]
     },
     "metadata": {
      "needs_background": "light"
     },
     "output_type": "display_data"
    }
   ],
   "source": [
    "final_df[['Memory Allocated', 'Memory Allocated_forecast']].plot(figsize=(12, 8)) "
   ]
  },
  {
   "cell_type": "code",
   "execution_count": 90,
   "metadata": {},
   "outputs": [],
   "source": [
    "filename = 'D:\\InstanceModel\\Instance2'\n",
    "outfile = open(filename,'wb')"
   ]
  },
  {
   "cell_type": "code",
   "execution_count": 91,
   "metadata": {},
   "outputs": [],
   "source": [
    "pickle.dump(model_fitted,outfile)\n",
    "outfile.close()"
   ]
  },
  {
   "cell_type": "code",
   "execution_count": null,
   "metadata": {},
   "outputs": [],
   "source": []
  }
 ],
 "metadata": {
  "kernelspec": {
   "display_name": "Python 3",
   "language": "python",
   "name": "python3"
  },
  "language_info": {
   "codemirror_mode": {
    "name": "ipython",
    "version": 3
   },
   "file_extension": ".py",
   "mimetype": "text/x-python",
   "name": "python",
   "nbconvert_exporter": "python",
   "pygments_lexer": "ipython3",
   "version": "3.7.6"
  }
 },
 "nbformat": 4,
 "nbformat_minor": 4
}
