{
 "cells": [
  {
   "cell_type": "code",
   "execution_count": 367,
   "metadata": {},
   "outputs": [],
   "source": [
    "import numpy as np\n",
    "from scipy import stats\n",
    "import pandas as pd\n",
    "import matplotlib.pyplot as plt\n",
    "import statsmodels.api as sm\n",
    "from statsmodels.tsa.stattools import adfuller\n",
    "from statsmodels.graphics.tsaplots import plot_acf,plot_pacf\n",
    "from statsmodels.tsa.arima_model import ARIMA\n",
    "from statsmodels.tsa.api import VAR\n",
    "\n",
    "from statsmodels.graphics.api import qqplot\n",
    "%matplotlib inline\n",
    "import pickle"
   ]
  },
  {
   "cell_type": "markdown",
   "metadata": {},
   "source": [
    "Reading The Data"
   ]
  },
  {
   "cell_type": "code",
   "execution_count": 318,
   "metadata": {},
   "outputs": [],
   "source": [
    "#Reading the Data From The File\n",
    "\n",
    "resource_data=pd.read_csv(\"D:\\Time Series Assignmant\\group_1_1b6ffb4a-b7bc-48d0-ab60-b43f64b7c6f4\\mem.log\",sep=\":\",header=None,names=['timestamp','Utilization']) # This is a free datset"
   ]
  },
  {
   "cell_type": "code",
   "execution_count": 319,
   "metadata": {},
   "outputs": [
    {
     "data": {
      "text/plain": [
       "(47046, 2)"
      ]
     },
     "execution_count": 319,
     "metadata": {},
     "output_type": "execute_result"
    }
   ],
   "source": [
    "resource_data.shape"
   ]
  },
  {
   "cell_type": "markdown",
   "metadata": {},
   "source": [
    "# Modeling The Data \n",
    "We are adding the columns of CPU and Memory Utilization "
   ]
  },
  {
   "cell_type": "code",
   "execution_count": 320,
   "metadata": {},
   "outputs": [],
   "source": [
    "resource_data[['Memory Allocated','Memory Used','CPU Allocated','CPU Used','Network bandwidth utilization','Storage space utilization']]=resource_data.Utilization.apply(lambda x: pd.Series(str(x).split(\":\")))"
   ]
  },
  {
   "cell_type": "code",
   "execution_count": 321,
   "metadata": {},
   "outputs": [
    {
     "data": {
      "text/html": [
       "<div>\n",
       "<style scoped>\n",
       "    .dataframe tbody tr th:only-of-type {\n",
       "        vertical-align: middle;\n",
       "    }\n",
       "\n",
       "    .dataframe tbody tr th {\n",
       "        vertical-align: top;\n",
       "    }\n",
       "\n",
       "    .dataframe thead th {\n",
       "        text-align: right;\n",
       "    }\n",
       "</style>\n",
       "<table border=\"1\" class=\"dataframe\">\n",
       "  <thead>\n",
       "    <tr style=\"text-align: right;\">\n",
       "      <th></th>\n",
       "      <th>timestamp</th>\n",
       "      <th>Utilization</th>\n",
       "      <th>Memory Allocated</th>\n",
       "      <th>Memory Used</th>\n",
       "      <th>CPU Allocated</th>\n",
       "      <th>CPU Used</th>\n",
       "      <th>Network bandwidth utilization</th>\n",
       "      <th>Storage space utilization</th>\n",
       "    </tr>\n",
       "  </thead>\n",
       "  <tbody>\n",
       "    <tr>\n",
       "      <th>0</th>\n",
       "      <td>Wed Aug 28 16:59:45 IST 2019</td>\n",
       "      <td>65664:65435:14:0.30:0.00:4014G</td>\n",
       "      <td>65664</td>\n",
       "      <td>65435</td>\n",
       "      <td>14</td>\n",
       "      <td>0.30</td>\n",
       "      <td>0.00</td>\n",
       "      <td>4014G</td>\n",
       "    </tr>\n",
       "    <tr>\n",
       "      <th>1</th>\n",
       "      <td>Wed Aug 28 17:02:28 IST 2019</td>\n",
       "      <td>65664:65435:14:0.31:0.00:4014G</td>\n",
       "      <td>65664</td>\n",
       "      <td>65435</td>\n",
       "      <td>14</td>\n",
       "      <td>0.31</td>\n",
       "      <td>0.00</td>\n",
       "      <td>4014G</td>\n",
       "    </tr>\n",
       "    <tr>\n",
       "      <th>2</th>\n",
       "      <td>Wed Aug 28 17:05:32 IST 2019</td>\n",
       "      <td>65664:65435:14:0.32:0.00:4014G</td>\n",
       "      <td>65664</td>\n",
       "      <td>65435</td>\n",
       "      <td>14</td>\n",
       "      <td>0.32</td>\n",
       "      <td>0.00</td>\n",
       "      <td>4014G</td>\n",
       "    </tr>\n",
       "    <tr>\n",
       "      <th>3</th>\n",
       "      <td>Wed Aug 28 17:08:27 IST 2019</td>\n",
       "      <td>65664:65435:14:0.29:0.00:4014G</td>\n",
       "      <td>65664</td>\n",
       "      <td>65435</td>\n",
       "      <td>14</td>\n",
       "      <td>0.29</td>\n",
       "      <td>0.00</td>\n",
       "      <td>4014G</td>\n",
       "    </tr>\n",
       "    <tr>\n",
       "      <th>4</th>\n",
       "      <td>Wed Aug 28 17:11:47 IST 2019</td>\n",
       "      <td>65664:65435:14:0.28:0.00:4014G</td>\n",
       "      <td>65664</td>\n",
       "      <td>65435</td>\n",
       "      <td>14</td>\n",
       "      <td>0.28</td>\n",
       "      <td>0.00</td>\n",
       "      <td>4014G</td>\n",
       "    </tr>\n",
       "  </tbody>\n",
       "</table>\n",
       "</div>"
      ],
      "text/plain": [
       "                      timestamp                     Utilization  \\\n",
       "0  Wed Aug 28 16:59:45 IST 2019  65664:65435:14:0.30:0.00:4014G   \n",
       "1  Wed Aug 28 17:02:28 IST 2019  65664:65435:14:0.31:0.00:4014G   \n",
       "2  Wed Aug 28 17:05:32 IST 2019  65664:65435:14:0.32:0.00:4014G   \n",
       "3  Wed Aug 28 17:08:27 IST 2019  65664:65435:14:0.29:0.00:4014G   \n",
       "4  Wed Aug 28 17:11:47 IST 2019  65664:65435:14:0.28:0.00:4014G   \n",
       "\n",
       "  Memory Allocated Memory Used CPU Allocated CPU Used  \\\n",
       "0            65664       65435            14     0.30   \n",
       "1            65664       65435            14     0.31   \n",
       "2            65664       65435            14     0.32   \n",
       "3            65664       65435            14     0.29   \n",
       "4            65664       65435            14     0.28   \n",
       "\n",
       "  Network bandwidth utilization Storage space utilization  \n",
       "0                          0.00                     4014G  \n",
       "1                          0.00                     4014G  \n",
       "2                          0.00                     4014G  \n",
       "3                          0.00                     4014G  \n",
       "4                          0.00                     4014G  "
      ]
     },
     "execution_count": 321,
     "metadata": {},
     "output_type": "execute_result"
    }
   ],
   "source": [
    "resource_data.head()"
   ]
  },
  {
   "cell_type": "code",
   "execution_count": 325,
   "metadata": {},
   "outputs": [],
   "source": [
    "# Dropping The Utilizatiojn Column After Splitting it\n",
    "resource_data.drop(['Utilization'],axis=1,inplace=True)\n",
    "resource_data['Storage space utilization']=resource_data['Storage space utilization'].apply(lambda x: str(x[:len(x)-1])) #Removin #Removing the Last Aplphabet To Make the Intrger"
   ]
  },
  {
   "cell_type": "code",
   "execution_count": 326,
   "metadata": {},
   "outputs": [
    {
     "data": {
      "text/html": [
       "<div>\n",
       "<style scoped>\n",
       "    .dataframe tbody tr th:only-of-type {\n",
       "        vertical-align: middle;\n",
       "    }\n",
       "\n",
       "    .dataframe tbody tr th {\n",
       "        vertical-align: top;\n",
       "    }\n",
       "\n",
       "    .dataframe thead th {\n",
       "        text-align: right;\n",
       "    }\n",
       "</style>\n",
       "<table border=\"1\" class=\"dataframe\">\n",
       "  <thead>\n",
       "    <tr style=\"text-align: right;\">\n",
       "      <th></th>\n",
       "      <th>timestamp</th>\n",
       "      <th>Memory Allocated</th>\n",
       "      <th>Memory Used</th>\n",
       "      <th>CPU Allocated</th>\n",
       "      <th>CPU Used</th>\n",
       "      <th>Network bandwidth utilization</th>\n",
       "      <th>Storage space utilization</th>\n",
       "    </tr>\n",
       "  </thead>\n",
       "  <tbody>\n",
       "    <tr>\n",
       "      <th>0</th>\n",
       "      <td>Wed Aug 28 16:59:45 IST 2019</td>\n",
       "      <td>65664</td>\n",
       "      <td>65435</td>\n",
       "      <td>14</td>\n",
       "      <td>0.30</td>\n",
       "      <td>0.00</td>\n",
       "      <td>4014</td>\n",
       "    </tr>\n",
       "    <tr>\n",
       "      <th>1</th>\n",
       "      <td>Wed Aug 28 17:02:28 IST 2019</td>\n",
       "      <td>65664</td>\n",
       "      <td>65435</td>\n",
       "      <td>14</td>\n",
       "      <td>0.31</td>\n",
       "      <td>0.00</td>\n",
       "      <td>4014</td>\n",
       "    </tr>\n",
       "    <tr>\n",
       "      <th>2</th>\n",
       "      <td>Wed Aug 28 17:05:32 IST 2019</td>\n",
       "      <td>65664</td>\n",
       "      <td>65435</td>\n",
       "      <td>14</td>\n",
       "      <td>0.32</td>\n",
       "      <td>0.00</td>\n",
       "      <td>4014</td>\n",
       "    </tr>\n",
       "    <tr>\n",
       "      <th>3</th>\n",
       "      <td>Wed Aug 28 17:08:27 IST 2019</td>\n",
       "      <td>65664</td>\n",
       "      <td>65435</td>\n",
       "      <td>14</td>\n",
       "      <td>0.29</td>\n",
       "      <td>0.00</td>\n",
       "      <td>4014</td>\n",
       "    </tr>\n",
       "    <tr>\n",
       "      <th>4</th>\n",
       "      <td>Wed Aug 28 17:11:47 IST 2019</td>\n",
       "      <td>65664</td>\n",
       "      <td>65435</td>\n",
       "      <td>14</td>\n",
       "      <td>0.28</td>\n",
       "      <td>0.00</td>\n",
       "      <td>4014</td>\n",
       "    </tr>\n",
       "  </tbody>\n",
       "</table>\n",
       "</div>"
      ],
      "text/plain": [
       "                      timestamp Memory Allocated Memory Used CPU Allocated  \\\n",
       "0  Wed Aug 28 16:59:45 IST 2019            65664       65435            14   \n",
       "1  Wed Aug 28 17:02:28 IST 2019            65664       65435            14   \n",
       "2  Wed Aug 28 17:05:32 IST 2019            65664       65435            14   \n",
       "3  Wed Aug 28 17:08:27 IST 2019            65664       65435            14   \n",
       "4  Wed Aug 28 17:11:47 IST 2019            65664       65435            14   \n",
       "\n",
       "  CPU Used Network bandwidth utilization Storage space utilization  \n",
       "0     0.30                          0.00                      4014  \n",
       "1     0.31                          0.00                      4014  \n",
       "2     0.32                          0.00                      4014  \n",
       "3     0.29                          0.00                      4014  \n",
       "4     0.28                          0.00                      4014  "
      ]
     },
     "execution_count": 326,
     "metadata": {},
     "output_type": "execute_result"
    }
   ],
   "source": [
    "resource_data.head()"
   ]
  },
  {
   "cell_type": "code",
   "execution_count": 327,
   "metadata": {},
   "outputs": [
    {
     "name": "stderr",
     "output_type": "stream",
     "text": [
      "C:\\Users\\bhanup2\\Anaconda3\\lib\\site-packages\\dateutil\\parser\\_parser.py:1218: UnknownTimezoneWarning: tzname IST identified but not understood.  Pass `tzinfos` argument in order to correctly return a timezone-aware datetime.  In a future version, this will raise an exception.\n",
      "  category=UnknownTimezoneWarning)\n"
     ]
    }
   ],
   "source": [
    "resource_data['timestamp']=pd.to_datetime(resource_data['timestamp']) #Converting Data To TimeStamp"
   ]
  },
  {
   "cell_type": "code",
   "execution_count": 328,
   "metadata": {},
   "outputs": [
    {
     "data": {
      "text/plain": [
       "timestamp                        datetime64[ns]\n",
       "Memory Allocated                          int32\n",
       "Memory Used                               int32\n",
       "CPU Allocated                             int32\n",
       "CPU Used                                float64\n",
       "Network bandwidth utilization           float64\n",
       "Storage space utilization                 int32\n",
       "dtype: object"
      ]
     },
     "execution_count": 328,
     "metadata": {},
     "output_type": "execute_result"
    }
   ],
   "source": [
    "#Change The Data Type as \n",
    "resource_data['Memory Used']=resource_data['Memory Used'].astype('int')\n",
    "resource_data['Memory Allocated']=resource_data['Memory Allocated'].astype('int')\n",
    "resource_data['CPU Used']=resource_data['CPU Used'].astype('float')\n",
    "resource_data['CPU Allocated']=resource_data['CPU Allocated'].astype('int')\n",
    "resource_data['Storage space utilization']=resource_data['Storage space utilization'].astype('int')\n",
    "resource_data['Network bandwidth utilization']=resource_data['Network bandwidth utilization'].astype('float')\n",
    "resource_data.dtypes"
   ]
  },
  {
   "cell_type": "code",
   "execution_count": 329,
   "metadata": {},
   "outputs": [],
   "source": [
    "resource_data.set_index('timestamp',inplace=True) # Seeting Time Stamp To The Index Column"
   ]
  },
  {
   "cell_type": "markdown",
   "metadata": {},
   "source": [
    "# Data Pre Processing \n",
    "we are pre Processing the data fro Training the Algorithm"
   ]
  },
  {
   "cell_type": "code",
   "execution_count": 330,
   "metadata": {},
   "outputs": [
    {
     "data": {
      "text/plain": [
       "Memory Allocated                   int32\n",
       "Memory Used                        int32\n",
       "CPU Allocated                      int32\n",
       "CPU Used                         float64\n",
       "Network bandwidth utilization    float64\n",
       "Storage space utilization          int32\n",
       "dtype: object"
      ]
     },
     "execution_count": 330,
     "metadata": {},
     "output_type": "execute_result"
    }
   ],
   "source": [
    "resource_data.dtypes"
   ]
  },
  {
   "cell_type": "code",
   "execution_count": 331,
   "metadata": {},
   "outputs": [
    {
     "name": "stdout",
     "output_type": "stream",
     "text": [
      "<class 'pandas.core.frame.DataFrame'>\n",
      "DatetimeIndex: 47046 entries, 2019-08-28 16:59:45 to 2020-06-23 19:41:54\n",
      "Data columns (total 6 columns):\n",
      " #   Column                         Non-Null Count  Dtype  \n",
      "---  ------                         --------------  -----  \n",
      " 0   Memory Allocated               47046 non-null  int32  \n",
      " 1   Memory Used                    47046 non-null  int32  \n",
      " 2   CPU Allocated                  47046 non-null  int32  \n",
      " 3   CPU Used                       47046 non-null  float64\n",
      " 4   Network bandwidth utilization  47046 non-null  float64\n",
      " 5   Storage space utilization      47046 non-null  int32  \n",
      "dtypes: float64(2), int32(4)\n",
      "memory usage: 1.8 MB\n"
     ]
    }
   ],
   "source": [
    "resource_data.info()"
   ]
  },
  {
   "cell_type": "markdown",
   "metadata": {},
   "source": [
    "There are no Null Values "
   ]
  },
  {
   "cell_type": "code",
   "execution_count": 332,
   "metadata": {},
   "outputs": [
    {
     "data": {
      "text/plain": [
       "Memory Allocated                   2\n",
       "Memory Used                      347\n",
       "CPU Allocated                      1\n",
       "CPU Used                         457\n",
       "Network bandwidth utilization      1\n",
       "Storage space utilization          1\n",
       "dtype: int64"
      ]
     },
     "execution_count": 332,
     "metadata": {},
     "output_type": "execute_result"
    }
   ],
   "source": [
    "resource_data.nunique()  # There are some values with Constant Values we have to remove them to train our data"
   ]
  },
  {
   "cell_type": "markdown",
   "metadata": {},
   "source": [
    "# Plotting The Grapphs"
   ]
  },
  {
   "cell_type": "code",
   "execution_count": 308,
   "metadata": {},
   "outputs": [
    {
     "data": {
      "image/png": "[encoded data removed]",
      "text/plain": [
       "<Figure size 1200x720 with 6 Axes>"
      ]
     },
     "metadata": {
      "needs_background": "light"
     },
     "output_type": "display_data"
    }
   ],
   "source": [
    "fig, axes = plt.subplots(nrows=3, ncols=2, dpi=120, figsize=(10,6))\n",
    "for i, ax in enumerate(axes.flatten()):\n",
    "    data = resource_data[resource_data.columns[i]]\n",
    "    ax.plot(data, color='blue', linewidth=1)\n",
    "    # Decorations\n",
    "    ax.set_title(resource_data.columns[i])\n",
    "    ax.xaxis.set_ticks_position('none')\n",
    "    ax.yaxis.set_ticks_position('none')\n",
    "    ax.spines[\"top\"].set_alpha(0)\n",
    "    ax.tick_params(labelsize=6)\n",
    "\n",
    "plt.tight_layout();"
   ]
  },
  {
   "cell_type": "markdown",
   "metadata": {},
   "source": [
    "We Can See some Values are constant , We need to drop them "
   ]
  },
  {
   "cell_type": "code",
   "execution_count": 333,
   "metadata": {},
   "outputs": [],
   "source": [
    "processed_data=resource_data.copy()"
   ]
  },
  {
   "cell_type": "code",
   "execution_count": 335,
   "metadata": {},
   "outputs": [],
   "source": [
    "for column in resource_data.columns:\n",
    "    constant_column=[InternetShortcut]\n",
    "    resource_data[column].nunique()\n",
    "    if constant_column==1:\n",
    "        processed_data.drop([column],axis=1,inplace=True)     "
   ]
  },
  {
   "cell_type": "code",
   "execution_count": 336,
   "metadata": {},
   "outputs": [
    {
     "data": {
      "text/html": [
       "<div>\n",
       "<style scoped>\n",
       "    .dataframe tbody tr th:only-of-type {\n",
       "        vertical-align: middle;\n",
       "    }\n",
       "\n",
       "    .dataframe tbody tr th {\n",
       "        vertical-align: top;\n",
       "    }\n",
       "\n",
       "    .dataframe thead th {\n",
       "        text-align: right;\n",
       "    }\n",
       "</style>\n",
       "<table border=\"1\" class=\"dataframe\">\n",
       "  <thead>\n",
       "    <tr style=\"text-align: right;\">\n",
       "      <th></th>\n",
       "      <th>Memory Allocated</th>\n",
       "      <th>Memory Used</th>\n",
       "      <th>CPU Used</th>\n",
       "    </tr>\n",
       "    <tr>\n",
       "      <th>timestamp</th>\n",
       "      <th></th>\n",
       "      <th></th>\n",
       "      <th></th>\n",
       "    </tr>\n",
       "  </thead>\n",
       "  <tbody>\n",
       "    <tr>\n",
       "      <th>2019-08-28 16:59:45</th>\n",
       "      <td>65664</td>\n",
       "      <td>65435</td>\n",
       "      <td>0.30</td>\n",
       "    </tr>\n",
       "    <tr>\n",
       "      <th>2019-08-28 17:02:28</th>\n",
       "      <td>65664</td>\n",
       "      <td>65435</td>\n",
       "      <td>0.31</td>\n",
       "    </tr>\n",
       "    <tr>\n",
       "      <th>2019-08-28 17:05:32</th>\n",
       "      <td>65664</td>\n",
       "      <td>65435</td>\n",
       "      <td>0.32</td>\n",
       "    </tr>\n",
       "    <tr>\n",
       "      <th>2019-08-28 17:08:27</th>\n",
       "      <td>65664</td>\n",
       "      <td>65435</td>\n",
       "      <td>0.29</td>\n",
       "    </tr>\n",
       "    <tr>\n",
       "      <th>2019-08-28 17:11:47</th>\n",
       "      <td>65664</td>\n",
       "      <td>65435</td>\n",
       "      <td>0.28</td>\n",
       "    </tr>\n",
       "  </tbody>\n",
       "</table>\n",
       "</div>"
      ],
      "text/plain": [
       "                     Memory Allocated  Memory Used  CPU Used\n",
       "timestamp                                                   \n",
       "2019-08-28 16:59:45             65664        65435      0.30\n",
       "2019-08-28 17:02:28             65664        65435      0.31\n",
       "2019-08-28 17:05:32             65664        65435      0.32\n",
       "2019-08-28 17:08:27             65664        65435      0.29\n",
       "2019-08-28 17:11:47             65664        65435      0.28"
      ]
     },
     "execution_count": 336,
     "metadata": {},
     "output_type": "execute_result"
    }
   ],
   "source": [
    "processed_data.head()"
   ]
  },
  {
   "cell_type": "markdown",
   "metadata": {},
   "source": [
    "# Training  The Model"
   ]
  },
  {
   "cell_type": "code",
   "execution_count": 342,
   "metadata": {},
   "outputs": [
    {
     "name": "stdout",
     "output_type": "stream",
     "text": [
      "(44046, 3)\n",
      "(3000, 3)\n"
     ]
    }
   ],
   "source": [
    "nobs = 3000\n",
    "resource_train, resource_test = processed_data[0:-nobs], processed_data[-nobs:]\n",
    "\n",
    "# Splitting The Data in Train and test \n",
    "print(resource_train.shape)  \n",
    "print(resource_test.shape)  "
   ]
  },
  {
   "cell_type": "code",
   "execution_count": 344,
   "metadata": {},
   "outputs": [],
   "source": [
    "#adfuller_test is used to predict the Stationary of data\n",
    "\n",
    "def adfuller_test(series, signif=0.05, name='', verbose=False):\n",
    "    \"\"\"Perform ADFuller to test for Stationarity of given series and print report\"\"\"\n",
    "    r = adfuller(series, autolag='AIC')\n",
    "    output = {'test_statistic':round(r[0], 4), 'pvalue':round(r[1], 4), 'n_lags':round(r[2], 4), 'n_obs':r[3]}\n",
    "    p_value = output['pvalue'] \n",
    "    def adjust(val, length= 6): return str(val).ljust(length)\n",
    "\n",
    "    # Print Summary\n",
    "    print(f'    Augmented Dickey-Fuller Test on \"{name}\"', \"\\n   \", '-'*47)\n",
    "    print(f' Null Hypothesis: Data has unit root. Non-Stationary.')\n",
    "    print(f' Significance Level    = {signif}')\n",
    "    print(f' Test Statistic        = {output[\"test_statistic\"]}')\n",
    "    print(f' No. Lags Chosen       = {output[\"n_lags\"]}')\n",
    "\n",
    "    for key,val in r[4].items():\n",
    "        print(f' Critical value {adjust(key)} = {round(val, 3)}')\n",
    "\n",
    "    if p_value <= signif:\n",
    "        print(f\" => P-Value = {p_value}. Rejecting Null Hypothesis.\")\n",
    "        print(f\" => Series is Stationary.\")\n",
    "    else:\n",
    "        print(f\" => P-Value = {p_value}. Weak evidence to reject the Null Hypothesis.\")\n",
    "        print(f\" => Series is Non-Stationary.\")    "
   ]
  },
  {
   "cell_type": "code",
   "execution_count": 346,
   "metadata": {},
   "outputs": [
    {
     "name": "stdout",
     "output_type": "stream",
     "text": [
      "    Augmented Dickey-Fuller Test on \"Memory Allocated\" \n",
      "    -----------------------------------------------\n",
      " Null Hypothesis: Data has unit root. Non-Stationary.\n",
      " Significance Level    = 0.05\n",
      " Test Statistic        = -209.869\n",
      " No. Lags Chosen       = 0\n",
      " Critical value 1%     = -3.43\n",
      " Critical value 5%     = -2.862\n",
      " Critical value 10%    = -2.567\n",
      " => P-Value = 0.0. Rejecting Null Hypothesis.\n",
      " => Series is Stationary.\n",
      "\n",
      "\n",
      "    Augmented Dickey-Fuller Test on \"Memory Used\" \n",
      "    -----------------------------------------------\n",
      " Null Hypothesis: Data has unit root. Non-Stationary.\n",
      " Significance Level    = 0.05\n",
      " Test Statistic        = -22.3371\n",
      " No. Lags Chosen       = 53\n",
      " Critical value 1%     = -3.43\n",
      " Critical value 5%     = -2.862\n",
      " Critical value 10%    = -2.567\n",
      " => P-Value = 0.0. Rejecting Null Hypothesis.\n",
      " => Series is Stationary.\n",
      "\n",
      "\n",
      "    Augmented Dickey-Fuller Test on \"CPU Used\" \n",
      "    -----------------------------------------------\n",
      " Null Hypothesis: Data has unit root. Non-Stationary.\n",
      " Significance Level    = 0.05\n",
      " Test Statistic        = -13.8342\n",
      " No. Lags Chosen       = 55\n",
      " Critical value 1%     = -3.43\n",
      " Critical value 5%     = -2.862\n",
      " Critical value 10%    = -2.567\n",
      " => P-Value = 0.0. Rejecting Null Hypothesis.\n",
      " => Series is Stationary.\n",
      "\n",
      "\n"
     ]
    }
   ],
   "source": [
    "for name, column in resource_train.iteritems():\n",
    "    adfuller_test(column, name=column.name)\n",
    "    print('\\n')"
   ]
  },
  {
   "cell_type": "markdown",
   "metadata": {},
   "source": [
    "We can see Our Series Is stationary We dont need to make it Stationary"
   ]
  },
  {
   "cell_type": "code",
   "execution_count": 347,
   "metadata": {},
   "outputs": [
    {
     "name": "stderr",
     "output_type": "stream",
     "text": [
      "C:\\Users\\bhanup2\\Anaconda3\\lib\\site-packages\\statsmodels\\tsa\\base\\tsa_model.py:218: ValueWarning: A date index has been provided, but it has no associated frequency information and so will be ignored when e.g. forecasting.\n",
      "  ' ignored when e.g. forecasting.', ValueWarning)\n"
     ]
    },
    {
     "name": "stdout",
     "output_type": "stream",
     "text": [
      "Lag Order = 1\n",
      "AIC :  11.324881837198358\n",
      "BIC :  11.327250224198258\n",
      "FPE :  82857.85574090808\n",
      "HQIC:  11.325628120997182 \n",
      "\n",
      "Lag Order = 2\n",
      "AIC :  11.151956078738237\n",
      "BIC :  11.156100839265845\n",
      "FPE :  69700.03359524441\n",
      "HQIC:  11.15326210301351 \n",
      "\n",
      "Lag Order = 3\n",
      "AIC :  11.09590141434996\n",
      "BIC :  11.101822619791283\n",
      "FPE :  65900.5070288251\n",
      "HQIC:  11.097767202783972 \n",
      "\n",
      "Lag Order = 4\n",
      "AIC :  11.045460684859686\n",
      "BIC :  11.053158406605283\n",
      "FPE :  62658.87967458889\n",
      "HQIC:  11.047886261136277 \n",
      "\n",
      "Lag Order = 5\n",
      "AIC :  11.038757208107587\n",
      "BIC :  11.048231517552559\n",
      "FPE :  62240.25203212981\n",
      "HQIC:  11.041742595912146 \n",
      "\n",
      "Lag Order = 10\n",
      "AIC :  11.014426490730695\n",
      "BIC :  11.032784809758256\n",
      "FPE :  60744.176190375576\n",
      "HQIC:  11.020211291510122 \n",
      "\n",
      "Lag Order = 15\n",
      "AIC :  10.997784978030262\n",
      "BIC :  11.025029092200246\n",
      "FPE :  59741.666084650686\n",
      "HQIC:  11.006369784151634 \n",
      "\n",
      "Lag Order = 25\n",
      "AIC :  10.977569792846086\n",
      "BIC :  11.0225908562559\n",
      "FPE :  58546.10269697477\n",
      "HQIC:  10.991756387527603 \n",
      "\n"
     ]
    }
   ],
   "source": [
    "## Using VAR Model Forecast Our Data , We are searching for the best lag where our data is showing less AIC \n",
    "\n",
    "model = VAR(resource_train)\n",
    "for i in [1,2,3,4,5,10,15,25]:\n",
    "    result = model.fit(i)\n",
    "    print('Lag Order =', i)\n",
    "    print('AIC : ', result.aic)\n",
    "    print('BIC : ', result.bic)\n",
    "    print('FPE : ', result.fpe)\n",
    "    print('HQIC: ', result.hqic, '\\n')"
   ]
  },
  {
   "cell_type": "markdown",
   "metadata": {},
   "source": [
    "We can see after lag 5 our data is reducing Error very Slowly we will use lag as 5"
   ]
  },
  {
   "cell_type": "code",
   "execution_count": 348,
   "metadata": {},
   "outputs": [
    {
     "data": {
      "text/plain": [
       "  Summary of Regression Results   \n",
       "==================================\n",
       "Model:                         VAR\n",
       "Method:                        OLS\n",
       "Date:           Thu, 16, Jul, 2020\n",
       "Time:                     13:47:56\n",
       "--------------------------------------------------------------------\n",
       "No. of Equations:         3.00000    BIC:                    11.0482\n",
       "Nobs:                     44041.0    HQIC:                   11.0417\n",
       "Log likelihood:          -430505.    FPE:                    62240.3\n",
       "AIC:                      11.0388    Det(Omega_mle):         62172.5\n",
       "--------------------------------------------------------------------\n",
       "Results for equation Memory Allocated\n",
       "======================================================================================\n",
       "                         coefficient       std. error           t-stat            prob\n",
       "--------------------------------------------------------------------------------------\n",
       "const                   65652.658481       700.269852           93.753           0.000\n",
       "L1.Memory Allocated         0.000342         0.004864            0.070           0.944\n",
       "L1.Memory Used              0.000000         0.000002            0.024           0.981\n",
       "L1.CPU Used                 0.003553         0.009209            0.386           0.700\n",
       "L2.Memory Allocated         0.000161         0.004888            0.033           0.974\n",
       "L2.Memory Used              0.000000         0.000002            0.036           0.972\n",
       "L2.CPU Used                 0.001874         0.010283            0.182           0.855\n",
       "L3.Memory Allocated         0.000264         0.004892            0.054           0.957\n",
       "L3.Memory Used              0.000000         0.000002            0.037           0.970\n",
       "L3.CPU Used                 0.002826         0.010424            0.271           0.786\n",
       "L4.Memory Allocated        -0.000855         0.004888           -0.175           0.861\n",
       "L4.Memory Used              0.000000         0.000002            0.094           0.925\n",
       "L4.CPU Used                -0.007739         0.010284           -0.752           0.452\n",
       "L5.Memory Allocated         0.000260         0.004864            0.054           0.957\n",
       "L5.Memory Used              0.000000         0.000002            0.039           0.969\n",
       "L5.CPU Used                 0.002824         0.009230            0.306           0.760\n",
       "======================================================================================\n",
       "\n",
       "Results for equation Memory Used\n",
       "======================================================================================\n",
       "                         coefficient       std. error           t-stat            prob\n",
       "--------------------------------------------------------------------------------------\n",
       "const                  330894.275000   1487573.340216            0.222           0.824\n",
       "L1.Memory Allocated        19.768030        10.331696            1.913           0.056\n",
       "L1.Memory Used              0.251937         0.004771           52.801           0.000\n",
       "L1.CPU Used               175.745439        19.562283            8.984           0.000\n",
       "L2.Memory Allocated         2.616324        10.383608            0.252           0.801\n",
       "L2.Memory Used              0.137064         0.004856           28.228           0.000\n",
       "L2.CPU Used                13.030660        21.844220            0.597           0.551\n",
       "L3.Memory Allocated        -6.303305        10.391075           -0.607           0.544\n",
       "L3.Memory Used              0.108406         0.004869           22.266           0.000\n",
       "L3.CPU Used               -70.940120        22.143985           -3.204           0.001\n",
       "L4.Memory Allocated        -4.419432        10.383966           -0.426           0.670\n",
       "L4.Memory Used              0.164461         0.004849           33.917           0.000\n",
       "L4.CPU Used               -54.849082        21.846573           -2.511           0.012\n",
       "L5.Memory Allocated       -16.425784        10.332521           -1.590           0.112\n",
       "L5.Memory Used              0.063524         0.004755           13.359           0.000\n",
       "L5.CPU Used              -165.808507        19.607623           -8.456           0.000\n",
       "======================================================================================\n",
       "\n",
       "Results for equation CPU Used\n",
       "======================================================================================\n",
       "                         coefficient       std. error           t-stat            prob\n",
       "--------------------------------------------------------------------------------------\n",
       "const                   -6595.083211       370.947437          -17.779           0.000\n",
       "L1.Memory Allocated         0.054057         0.002576           20.982           0.000\n",
       "L1.Memory Used              0.000002         0.000001            2.101           0.036\n",
       "L1.CPU Used                 0.510142         0.004878          104.577           0.000\n",
       "L2.Memory Allocated         0.021873         0.002589            8.447           0.000\n",
       "L2.Memory Used              0.000002         0.000001            1.682           0.093\n",
       "L2.CPU Used                 0.202407         0.005447           37.158           0.000\n",
       "L3.Memory Allocated         0.008353         0.002591            3.224           0.001\n",
       "L3.Memory Used             -0.000000         0.000001           -0.136           0.892\n",
       "L3.CPU Used                 0.078185         0.005522           14.159           0.000\n",
       "L4.Memory Allocated         0.011679         0.002589            4.510           0.000\n",
       "L4.Memory Used              0.000001         0.000001            0.972           0.331\n",
       "L4.CPU Used                 0.108694         0.005448           19.952           0.000\n",
       "L5.Memory Allocated         0.004473         0.002577            1.736           0.083\n",
       "L5.Memory Used             -0.000003         0.000001           -2.224           0.026\n",
       "L5.CPU Used                 0.037154         0.004889            7.599           0.000\n",
       "======================================================================================\n",
       "\n",
       "Correlation matrix of residuals\n",
       "                    Memory Allocated  Memory Used  CPU Used\n",
       "Memory Allocated            1.000000    -0.001087 -0.198934\n",
       "Memory Used                -0.001087     1.000000  0.087741\n",
       "CPU Used                   -0.198934     0.087741  1.000000\n",
       "\n"
      ]
     },
     "execution_count": 348,
     "metadata": {},
     "output_type": "execute_result"
    }
   ],
   "source": [
    "model_fitted = model.fit(5)\n",
    "model_fitted.summary()"
   ]
  },
  {
   "cell_type": "markdown",
   "metadata": {},
   "source": [
    "# Prediction"
   ]
  },
  {
   "cell_type": "code",
   "execution_count": 349,
   "metadata": {},
   "outputs": [
    {
     "name": "stdout",
     "output_type": "stream",
     "text": [
      "5\n"
     ]
    },
    {
     "data": {
      "text/plain": [
       "array([[6.5664e+04, 6.5168e+04, 3.5000e-01],\n",
       "       [6.5664e+04, 6.5165e+04, 3.6000e-01],\n",
       "       [6.5664e+04, 6.5170e+04, 3.7000e-01],\n",
       "       [6.5664e+04, 6.5169e+04, 3.3000e-01],\n",
       "       [6.5664e+04, 6.5158e+04, 3.5000e-01]])"
      ]
     },
     "execution_count": 349,
     "metadata": {},
     "output_type": "execute_result"
    }
   ],
   "source": [
    "lag_order = model_fitted.k_ar\n",
    "print(lag_order)  #> 4\n",
    "\n",
    "# Input data for forecasting\n",
    "forecast_input = resource_train.values[-lag_order:]\n",
    "forecast_input"
   ]
  },
  {
   "cell_type": "code",
   "execution_count": 350,
   "metadata": {},
   "outputs": [
    {
     "data": {
      "text/html": [
       "<div>\n",
       "<style scoped>\n",
       "    .dataframe tbody tr th:only-of-type {\n",
       "        vertical-align: middle;\n",
       "    }\n",
       "\n",
       "    .dataframe tbody tr th {\n",
       "        vertical-align: top;\n",
       "    }\n",
       "\n",
       "    .dataframe thead th {\n",
       "        text-align: right;\n",
       "    }\n",
       "</style>\n",
       "<table border=\"1\" class=\"dataframe\">\n",
       "  <thead>\n",
       "    <tr style=\"text-align: right;\">\n",
       "      <th></th>\n",
       "      <th>Memory Allocated</th>\n",
       "      <th>Memory Used</th>\n",
       "      <th>CPU Used</th>\n",
       "    </tr>\n",
       "    <tr>\n",
       "      <th>timestamp</th>\n",
       "      <th></th>\n",
       "      <th></th>\n",
       "      <th></th>\n",
       "    </tr>\n",
       "  </thead>\n",
       "  <tbody>\n",
       "    <tr>\n",
       "      <th>2020-03-06 19:01:13</th>\n",
       "      <td>65663.994760</td>\n",
       "      <td>65291.472007</td>\n",
       "      <td>0.389185</td>\n",
       "    </tr>\n",
       "    <tr>\n",
       "      <th>2020-03-06 19:16:30</th>\n",
       "      <td>65663.994780</td>\n",
       "      <td>65331.788864</td>\n",
       "      <td>0.411596</td>\n",
       "    </tr>\n",
       "    <tr>\n",
       "      <th>2020-03-06 19:31:31</th>\n",
       "      <td>65663.995338</td>\n",
       "      <td>65362.754072</td>\n",
       "      <td>0.428794</td>\n",
       "    </tr>\n",
       "    <tr>\n",
       "      <th>2020-03-06 19:43:33</th>\n",
       "      <td>65663.995297</td>\n",
       "      <td>65394.792177</td>\n",
       "      <td>0.445969</td>\n",
       "    </tr>\n",
       "    <tr>\n",
       "      <th>2020-03-06 19:57:32</th>\n",
       "      <td>65663.995247</td>\n",
       "      <td>65428.941665</td>\n",
       "      <td>0.465238</td>\n",
       "    </tr>\n",
       "  </tbody>\n",
       "</table>\n",
       "</div>"
      ],
      "text/plain": [
       "                     Memory Allocated   Memory Used  CPU Used\n",
       "timestamp                                                    \n",
       "2020-03-06 19:01:13      65663.994760  65291.472007  0.389185\n",
       "2020-03-06 19:16:30      65663.994780  65331.788864  0.411596\n",
       "2020-03-06 19:31:31      65663.995338  65362.754072  0.428794\n",
       "2020-03-06 19:43:33      65663.995297  65394.792177  0.445969\n",
       "2020-03-06 19:57:32      65663.995247  65428.941665  0.465238"
      ]
     },
     "execution_count": 350,
     "metadata": {},
     "output_type": "execute_result"
    }
   ],
   "source": [
    "# Forecast\n",
    "fc = model_fitted.forecast(y=forecast_input, steps=nobs)\n",
    "df_forecast = pd.DataFrame(fc, index= processed_data.index[-nobs:], columns=processed_data.columns)\n",
    "df_forecast.head()"
   ]
  },
  {
   "cell_type": "code",
   "execution_count": 351,
   "metadata": {},
   "outputs": [],
   "source": [
    "for column in resource_data.columns:\n",
    "    constant_column=resource_data[column].nunique()\n",
    "    if constant_column==1:\n",
    "        df_forecast[column]=resource_data[column]"
   ]
  },
  {
   "cell_type": "code",
   "execution_count": 352,
   "metadata": {},
   "outputs": [
    {
     "data": {
      "text/html": [
       "<div>\n",
       "<style scoped>\n",
       "    .dataframe tbody tr th:only-of-type {\n",
       "        vertical-align: middle;\n",
       "    }\n",
       "\n",
       "    .dataframe tbody tr th {\n",
       "        vertical-align: top;\n",
       "    }\n",
       "\n",
       "    .dataframe thead th {\n",
       "        text-align: right;\n",
       "    }\n",
       "</style>\n",
       "<table border=\"1\" class=\"dataframe\">\n",
       "  <thead>\n",
       "    <tr style=\"text-align: right;\">\n",
       "      <th></th>\n",
       "      <th>Memory Allocated</th>\n",
       "      <th>Memory Used</th>\n",
       "      <th>CPU Used</th>\n",
       "      <th>CPU Allocated</th>\n",
       "      <th>Network bandwidth utilization</th>\n",
       "      <th>Storage space utilization</th>\n",
       "    </tr>\n",
       "    <tr>\n",
       "      <th>timestamp</th>\n",
       "      <th></th>\n",
       "      <th></th>\n",
       "      <th></th>\n",
       "      <th></th>\n",
       "      <th></th>\n",
       "      <th></th>\n",
       "    </tr>\n",
       "  </thead>\n",
       "  <tbody>\n",
       "    <tr>\n",
       "      <th>2020-03-06 19:01:13</th>\n",
       "      <td>65663.994760</td>\n",
       "      <td>65291.472007</td>\n",
       "      <td>0.389185</td>\n",
       "      <td>14</td>\n",
       "      <td>0.0</td>\n",
       "      <td>4014</td>\n",
       "    </tr>\n",
       "    <tr>\n",
       "      <th>2020-03-06 19:16:30</th>\n",
       "      <td>65663.994780</td>\n",
       "      <td>65331.788864</td>\n",
       "      <td>0.411596</td>\n",
       "      <td>14</td>\n",
       "      <td>0.0</td>\n",
       "      <td>4014</td>\n",
       "    </tr>\n",
       "    <tr>\n",
       "      <th>2020-03-06 19:31:31</th>\n",
       "      <td>65663.995338</td>\n",
       "      <td>65362.754072</td>\n",
       "      <td>0.428794</td>\n",
       "      <td>14</td>\n",
       "      <td>0.0</td>\n",
       "      <td>4014</td>\n",
       "    </tr>\n",
       "    <tr>\n",
       "      <th>2020-03-06 19:43:33</th>\n",
       "      <td>65663.995297</td>\n",
       "      <td>65394.792177</td>\n",
       "      <td>0.445969</td>\n",
       "      <td>14</td>\n",
       "      <td>0.0</td>\n",
       "      <td>4014</td>\n",
       "    </tr>\n",
       "    <tr>\n",
       "      <th>2020-03-06 19:57:32</th>\n",
       "      <td>65663.995247</td>\n",
       "      <td>65428.941665</td>\n",
       "      <td>0.465238</td>\n",
       "      <td>14</td>\n",
       "      <td>0.0</td>\n",
       "      <td>4014</td>\n",
       "    </tr>\n",
       "  </tbody>\n",
       "</table>\n",
       "</div>"
      ],
      "text/plain": [
       "                     Memory Allocated   Memory Used  CPU Used  CPU Allocated  \\\n",
       "timestamp                                                                      \n",
       "2020-03-06 19:01:13      65663.994760  65291.472007  0.389185             14   \n",
       "2020-03-06 19:16:30      65663.994780  65331.788864  0.411596             14   \n",
       "2020-03-06 19:31:31      65663.995338  65362.754072  0.428794             14   \n",
       "2020-03-06 19:43:33      65663.995297  65394.792177  0.445969             14   \n",
       "2020-03-06 19:57:32      65663.995247  65428.941665  0.465238             14   \n",
       "\n",
       "                     Network bandwidth utilization  Storage space utilization  \n",
       "timestamp                                                                      \n",
       "2020-03-06 19:01:13                            0.0                       4014  \n",
       "2020-03-06 19:16:30                            0.0                       4014  \n",
       "2020-03-06 19:31:31                            0.0                       4014  \n",
       "2020-03-06 19:43:33                            0.0                       4014  \n",
       "2020-03-06 19:57:32                            0.0                       4014  "
      ]
     },
     "execution_count": 352,
     "metadata": {},
     "output_type": "execute_result"
    }
   ],
   "source": [
    "df_forecast.head()"
   ]
  },
  {
   "cell_type": "markdown",
   "metadata": {},
   "source": [
    "Plotting The difference"
   ]
  },
  {
   "cell_type": "code",
   "execution_count": 355,
   "metadata": {},
   "outputs": [],
   "source": [
    "df_forecast.rename(columns={'Memory Allocated':'Memory Allocated_f','Memory Used':'Memory Used_f','CPU Used':'CPU Used_f'},inplace=True)"
   ]
  },
  {
   "cell_type": "code",
   "execution_count": 356,
   "metadata": {},
   "outputs": [
    {
     "data": {
      "text/html": [
       "<div>\n",
       "<style scoped>\n",
       "    .dataframe tbody tr th:only-of-type {\n",
       "        vertical-align: middle;\n",
       "    }\n",
       "\n",
       "    .dataframe tbody tr th {\n",
       "        vertical-align: top;\n",
       "    }\n",
       "\n",
       "    .dataframe thead th {\n",
       "        text-align: right;\n",
       "    }\n",
       "</style>\n",
       "<table border=\"1\" class=\"dataframe\">\n",
       "  <thead>\n",
       "    <tr style=\"text-align: right;\">\n",
       "      <th></th>\n",
       "      <th>Memory Allocated_f</th>\n",
       "      <th>Memory Used_f</th>\n",
       "      <th>CPU Used_f</th>\n",
       "      <th>CPU Allocated</th>\n",
       "      <th>Network bandwidth utilization</th>\n",
       "      <th>Storage space utilization</th>\n",
       "    </tr>\n",
       "    <tr>\n",
       "      <th>timestamp</th>\n",
       "      <th></th>\n",
       "      <th></th>\n",
       "      <th></th>\n",
       "      <th></th>\n",
       "      <th></th>\n",
       "      <th></th>\n",
       "    </tr>\n",
       "  </thead>\n",
       "  <tbody>\n",
       "    <tr>\n",
       "      <th>2020-03-06 19:01:13</th>\n",
       "      <td>65663.994760</td>\n",
       "      <td>65291.472007</td>\n",
       "      <td>0.389185</td>\n",
       "      <td>14</td>\n",
       "      <td>0.0</td>\n",
       "      <td>4014</td>\n",
       "    </tr>\n",
       "    <tr>\n",
       "      <th>2020-03-06 19:16:30</th>\n",
       "      <td>65663.994780</td>\n",
       "      <td>65331.788864</td>\n",
       "      <td>0.411596</td>\n",
       "      <td>14</td>\n",
       "      <td>0.0</td>\n",
       "      <td>4014</td>\n",
       "    </tr>\n",
       "    <tr>\n",
       "      <th>2020-03-06 19:31:31</th>\n",
       "      <td>65663.995338</td>\n",
       "      <td>65362.754072</td>\n",
       "      <td>0.428794</td>\n",
       "      <td>14</td>\n",
       "      <td>0.0</td>\n",
       "      <td>4014</td>\n",
       "    </tr>\n",
       "    <tr>\n",
       "      <th>2020-03-06 19:43:33</th>\n",
       "      <td>65663.995297</td>\n",
       "      <td>65394.792177</td>\n",
       "      <td>0.445969</td>\n",
       "      <td>14</td>\n",
       "      <td>0.0</td>\n",
       "      <td>4014</td>\n",
       "    </tr>\n",
       "    <tr>\n",
       "      <th>2020-03-06 19:57:32</th>\n",
       "      <td>65663.995247</td>\n",
       "      <td>65428.941665</td>\n",
       "      <td>0.465238</td>\n",
       "      <td>14</td>\n",
       "      <td>0.0</td>\n",
       "      <td>4014</td>\n",
       "    </tr>\n",
       "  </tbody>\n",
       "</table>\n",
       "</div>"
      ],
      "text/plain": [
       "                     Memory Allocated_f  Memory Used_f  CPU Used_f  \\\n",
       "timestamp                                                            \n",
       "2020-03-06 19:01:13        65663.994760   65291.472007    0.389185   \n",
       "2020-03-06 19:16:30        65663.994780   65331.788864    0.411596   \n",
       "2020-03-06 19:31:31        65663.995338   65362.754072    0.428794   \n",
       "2020-03-06 19:43:33        65663.995297   65394.792177    0.445969   \n",
       "2020-03-06 19:57:32        65663.995247   65428.941665    0.465238   \n",
       "\n",
       "                     CPU Allocated  Network bandwidth utilization  \\\n",
       "timestamp                                                           \n",
       "2020-03-06 19:01:13             14                            0.0   \n",
       "2020-03-06 19:16:30             14                            0.0   \n",
       "2020-03-06 19:31:31             14                            0.0   \n",
       "2020-03-06 19:43:33             14                            0.0   \n",
       "2020-03-06 19:57:32             14                            0.0   \n",
       "\n",
       "                     Storage space utilization  \n",
       "timestamp                                       \n",
       "2020-03-06 19:01:13                       4014  \n",
       "2020-03-06 19:16:30                       4014  \n",
       "2020-03-06 19:31:31                       4014  \n",
       "2020-03-06 19:43:33                       4014  \n",
       "2020-03-06 19:57:32                       4014  "
      ]
     },
     "execution_count": 356,
     "metadata": {},
     "output_type": "execute_result"
    }
   ],
   "source": [
    "df_forecast.head()"
   ]
  },
  {
   "cell_type": "code",
   "execution_count": 357,
   "metadata": {},
   "outputs": [],
   "source": [
    "final_df=pd.concat([df_forecast,resource_test])"
   ]
  },
  {
   "cell_type": "code",
   "execution_count": 358,
   "metadata": {},
   "outputs": [
    {
     "data": {
      "text/plain": [
       "<matplotlib.axes._subplots.AxesSubplot at 0x1f4b45b60c8>"
      ]
     },
     "execution_count": 358,
     "metadata": {},
     "output_type": "execute_result"
    },
    {
     "data": {
      "image/png": "[encoded data removed]",
      "text/plain": [
       "<Figure size 864x576 with 1 Axes>"
      ]
     },
     "metadata": {
      "needs_background": "light"
     },
     "output_type": "display_data"
    }
   ],
   "source": [
    "final_df[['Memory Used', 'Memory Used_f']].plot(figsize=(12, 8)) "
   ]
  },
  {
   "cell_type": "code",
   "execution_count": 360,
   "metadata": {},
   "outputs": [
    {
     "data": {
      "text/plain": [
       "<matplotlib.axes._subplots.AxesSubplot at 0x1f4b47f7cc8>"
      ]
     },
     "execution_count": 360,
     "metadata": {},
     "output_type": "execute_result"
    },
    {
     "data": {
      "image/png": "[encoded data removed]",
      "text/plain": [
       "<Figure size 864x576 with 1 Axes>"
      ]
     },
     "metadata": {
      "needs_background": "light"
     },
     "output_type": "display_data"
    }
   ],
   "source": [
    "final_df[['CPU Used', 'CPU Used_f']].plot(figsize=(12, 8)) "
   ]
  },
  {
   "cell_type": "code",
   "execution_count": 361,
   "metadata": {},
   "outputs": [
    {
     "data": {
      "text/plain": [
       "<matplotlib.axes._subplots.AxesSubplot at 0x1f48df37308>"
      ]
     },
     "execution_count": 361,
     "metadata": {},
     "output_type": "execute_result"
    },
    {
     "data": {
      "image/png": "[encoded data removed]",
      "text/plain": [
       "<Figure size 864x576 with 1 Axes>"
      ]
     },
     "metadata": {
      "needs_background": "light"
     },
     "output_type": "display_data"
    }
   ],
   "source": [
    "final_df[['Memory Allocated', 'Memory Allocated_f']].plot(figsize=(12, 8)) "
   ]
  },
  {
   "cell_type": "code",
   "execution_count": 368,
   "metadata": {},
   "outputs": [],
   "source": [
    "#Making The Pickle File\n",
    "\n",
    "filename = 'Instance1'\n",
    "outfile = open(filename,'wb')"
   ]
  },
  {
   "cell_type": "code",
   "execution_count": 369,
   "metadata": {},
   "outputs": [],
   "source": [
    "pickle.dump(model_fitted,outfile)\n",
    "outfile.close()"
   ]
  },
  {
   "cell_type": "code",
   "execution_count": null,
   "metadata": {},
   "outputs": [],
   "source": []
  },
  {
   "cell_type": "code",
   "execution_count": null,
   "metadata": {},
   "outputs": [],
   "source": []
  },
  {
   "cell_type": "code",
   "execution_count": null,
   "metadata": {},
   "outputs": [],
   "source": []
  },
  {
   "cell_type": "code",
   "execution_count": null,
   "metadata": {},
   "outputs": [],
   "source": []
  },
  {
   "cell_type": "code",
   "execution_count": null,
   "metadata": {},
   "outputs": [],
   "source": []
  },
  {
   "cell_type": "code",
   "execution_count": null,
   "metadata": {},
   "outputs": [],
   "source": []
  },
  {
   "cell_type": "code",
   "execution_count": null,
   "metadata": {},
   "outputs": [],
   "source": []
  },
  {
   "cell_type": "code",
   "execution_count": null,
   "metadata": {},
   "outputs": [],
   "source": []
  },
  {
   "cell_type": "code",
   "execution_count": null,
   "metadata": {},
   "outputs": [],
   "source": []
  }
 ],
 "metadata": {
  "kernelspec": {
   "display_name": "Python 3",
   "language": "python",
   "name": "python3"
  },
  "language_info": {
   "codemirror_mode": {
    "name": "ipython",
    "version": 3
   },
   "file_extension": ".py",
   "mimetype": "text/x-python",
   "name": "python",
   "nbconvert_exporter": "python",
   "pygments_lexer": "ipython3",
   "version": "3.7.6"
  }
 },
 "nbformat": 4,
 "nbformat_minor": 4
}
